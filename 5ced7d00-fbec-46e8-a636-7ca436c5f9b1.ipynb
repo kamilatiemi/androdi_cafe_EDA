{
 "cells": [
  {
   "cell_type": "markdown",
   "metadata": {},
   "source": [
    "Você decidiu abrir uma pequena cafeteria com garçons robôs em Los Angeles. É um projeto bem promissor, mas caro, então você e seus parceiros decidem tentar atrair investidores. Eles estão interessados nas condições atuais do mercado e querem saber se você conseguirá manter seu sucesso quando a novidade de garçons robôs esmorecer.\n",
    "\n",
    "Você é um guru de análise, então seus parceiros te pediram para preparar uma pesquisa do mercado. Você tem dados de código aberto sobre restaurantes em LA."
   ]
  },
  {
   "cell_type": "markdown",
   "metadata": {},
   "source": [
    "## <b> Carregue os dados e prepare-os para a análise<b>"
   ]
  },
  {
   "cell_type": "code",
   "execution_count": 118,
   "metadata": {},
   "outputs": [],
   "source": [
    "#importando bibliotecas\n",
    "\n",
    "from matplotlib import ticker\n",
    "import pandas as pd\n",
    "from matplotlib import pyplot as plt\n",
    "import seaborn as sns\n",
    "import numpy as np\n"
   ]
  },
  {
   "cell_type": "code",
   "execution_count": 2,
   "metadata": {},
   "outputs": [],
   "source": [
    "#importando os dados\n",
    "rest_data = pd.read_csv('/datasets/rest_data_us_upd.csv')"
   ]
  },
  {
   "cell_type": "code",
   "execution_count": 3,
   "metadata": {},
   "outputs": [
    {
     "name": "stdout",
     "output_type": "stream",
     "text": [
      "<class 'pandas.core.frame.DataFrame'>\n",
      "RangeIndex: 9651 entries, 0 to 9650\n",
      "Data columns (total 6 columns):\n",
      " #   Column       Non-Null Count  Dtype \n",
      "---  ------       --------------  ----- \n",
      " 0   id           9651 non-null   int64 \n",
      " 1   object_name  9651 non-null   object\n",
      " 2   address      9651 non-null   object\n",
      " 3   chain        9648 non-null   object\n",
      " 4   object_type  9651 non-null   object\n",
      " 5   number       9651 non-null   int64 \n",
      "dtypes: int64(2), object(4)\n",
      "memory usage: 452.5+ KB\n"
     ]
    }
   ],
   "source": [
    "rest_data.info()"
   ]
  },
  {
   "cell_type": "code",
   "execution_count": 4,
   "metadata": {},
   "outputs": [
    {
     "data": {
      "text/html": [
       "<div>\n",
       "<style scoped>\n",
       "    .dataframe tbody tr th:only-of-type {\n",
       "        vertical-align: middle;\n",
       "    }\n",
       "\n",
       "    .dataframe tbody tr th {\n",
       "        vertical-align: top;\n",
       "    }\n",
       "\n",
       "    .dataframe thead th {\n",
       "        text-align: right;\n",
       "    }\n",
       "</style>\n",
       "<table border=\"1\" class=\"dataframe\">\n",
       "  <thead>\n",
       "    <tr style=\"text-align: right;\">\n",
       "      <th></th>\n",
       "      <th>id</th>\n",
       "      <th>object_name</th>\n",
       "      <th>address</th>\n",
       "      <th>chain</th>\n",
       "      <th>object_type</th>\n",
       "      <th>number</th>\n",
       "    </tr>\n",
       "  </thead>\n",
       "  <tbody>\n",
       "    <tr>\n",
       "      <th>0</th>\n",
       "      <td>11786</td>\n",
       "      <td>HABITAT COFFEE SHOP</td>\n",
       "      <td>3708 N EAGLE ROCK BLVD</td>\n",
       "      <td>False</td>\n",
       "      <td>Cafe</td>\n",
       "      <td>26</td>\n",
       "    </tr>\n",
       "    <tr>\n",
       "      <th>1</th>\n",
       "      <td>11787</td>\n",
       "      <td>REILLY'S</td>\n",
       "      <td>100 WORLD WAY 120</td>\n",
       "      <td>False</td>\n",
       "      <td>Restaurant</td>\n",
       "      <td>9</td>\n",
       "    </tr>\n",
       "    <tr>\n",
       "      <th>2</th>\n",
       "      <td>11788</td>\n",
       "      <td>STREET CHURROS</td>\n",
       "      <td>6801 HOLLYWOOD BLVD 253</td>\n",
       "      <td>False</td>\n",
       "      <td>Fast Food</td>\n",
       "      <td>20</td>\n",
       "    </tr>\n",
       "    <tr>\n",
       "      <th>3</th>\n",
       "      <td>11789</td>\n",
       "      <td>TRINITI ECHO PARK</td>\n",
       "      <td>1814 W SUNSET BLVD</td>\n",
       "      <td>False</td>\n",
       "      <td>Restaurant</td>\n",
       "      <td>22</td>\n",
       "    </tr>\n",
       "    <tr>\n",
       "      <th>4</th>\n",
       "      <td>11790</td>\n",
       "      <td>POLLEN</td>\n",
       "      <td>2100 ECHO PARK AVE</td>\n",
       "      <td>False</td>\n",
       "      <td>Restaurant</td>\n",
       "      <td>20</td>\n",
       "    </tr>\n",
       "  </tbody>\n",
       "</table>\n",
       "</div>"
      ],
      "text/plain": [
       "      id          object_name                  address  chain object_type  \\\n",
       "0  11786  HABITAT COFFEE SHOP   3708 N EAGLE ROCK BLVD  False        Cafe   \n",
       "1  11787             REILLY'S        100 WORLD WAY 120  False  Restaurant   \n",
       "2  11788       STREET CHURROS  6801 HOLLYWOOD BLVD 253  False   Fast Food   \n",
       "3  11789    TRINITI ECHO PARK       1814 W SUNSET BLVD  False  Restaurant   \n",
       "4  11790               POLLEN       2100 ECHO PARK AVE  False  Restaurant   \n",
       "\n",
       "   number  \n",
       "0      26  \n",
       "1       9  \n",
       "2      20  \n",
       "3      22  \n",
       "4      20  "
      ]
     },
     "execution_count": 4,
     "metadata": {},
     "output_type": "execute_result"
    }
   ],
   "source": [
    "rest_data.head()"
   ]
  },
  {
   "cell_type": "code",
   "execution_count": 5,
   "metadata": {},
   "outputs": [
    {
     "name": "stdout",
     "output_type": "stream",
     "text": [
      "         id              object_name               address chain object_type  \\\n",
      "7408  19194  TAQUERIA LOS 3 CARNALES  5000 E WHITTIER BLVD   NaN  Restaurant   \n",
      "7523  19309     JAMMIN JIMMY'S PIZZA   1641 FIRESTONE BLVD   NaN       Pizza   \n",
      "8648  20434    THE LEXINGTON THEATER          129 E 3RD ST   NaN  Restaurant   \n",
      "\n",
      "      number  \n",
      "7408      14  \n",
      "7523       1  \n",
      "8648      35  \n"
     ]
    }
   ],
   "source": [
    "print(rest_data[rest_data['chain'].isnull()])"
   ]
  },
  {
   "cell_type": "markdown",
   "metadata": {},
   "source": [
    "É possíver analisar que existem dados faltantes na coluna chain. Vamos verificar se há dados duplicados também."
   ]
  },
  {
   "cell_type": "code",
   "execution_count": 6,
   "metadata": {},
   "outputs": [
    {
     "data": {
      "text/plain": [
       "False    9651\n",
       "dtype: int64"
      ]
     },
     "execution_count": 6,
     "metadata": {},
     "output_type": "execute_result"
    }
   ],
   "source": [
    "rest_data.duplicated().value_counts()"
   ]
  },
  {
   "cell_type": "markdown",
   "metadata": {},
   "source": [
    "Com isso é possível concluir que não há dados duplicados. <br>\n",
    "Para tratar os dados faltantes, é possível seguir 3 abordagens: preencher com os valores que mais se repetem, eliminar completamente essas linhas ou preencher com algo como 'Indefinido'. \n",
    "\n",
    "Como forma de preservar os dados e não alterar os resultados, vamos preencher os valores com 'Indefinido'."
   ]
  },
  {
   "cell_type": "code",
   "execution_count": 7,
   "metadata": {},
   "outputs": [],
   "source": [
    "rest_data['chain'] = rest_data['chain'].fillna('Indefinido')"
   ]
  },
  {
   "cell_type": "code",
   "execution_count": 8,
   "metadata": {},
   "outputs": [
    {
     "data": {
      "text/html": [
       "<div>\n",
       "<style scoped>\n",
       "    .dataframe tbody tr th:only-of-type {\n",
       "        vertical-align: middle;\n",
       "    }\n",
       "\n",
       "    .dataframe tbody tr th {\n",
       "        vertical-align: top;\n",
       "    }\n",
       "\n",
       "    .dataframe thead th {\n",
       "        text-align: right;\n",
       "    }\n",
       "</style>\n",
       "<table border=\"1\" class=\"dataframe\">\n",
       "  <thead>\n",
       "    <tr style=\"text-align: right;\">\n",
       "      <th></th>\n",
       "      <th>id</th>\n",
       "      <th>object_name</th>\n",
       "      <th>address</th>\n",
       "      <th>chain</th>\n",
       "      <th>object_type</th>\n",
       "      <th>number</th>\n",
       "    </tr>\n",
       "  </thead>\n",
       "  <tbody>\n",
       "    <tr>\n",
       "      <th>7408</th>\n",
       "      <td>19194</td>\n",
       "      <td>TAQUERIA LOS 3 CARNALES</td>\n",
       "      <td>5000 E WHITTIER BLVD</td>\n",
       "      <td>Indefinido</td>\n",
       "      <td>Restaurant</td>\n",
       "      <td>14</td>\n",
       "    </tr>\n",
       "    <tr>\n",
       "      <th>7523</th>\n",
       "      <td>19309</td>\n",
       "      <td>JAMMIN JIMMY'S PIZZA</td>\n",
       "      <td>1641 FIRESTONE BLVD</td>\n",
       "      <td>Indefinido</td>\n",
       "      <td>Pizza</td>\n",
       "      <td>1</td>\n",
       "    </tr>\n",
       "    <tr>\n",
       "      <th>8648</th>\n",
       "      <td>20434</td>\n",
       "      <td>THE LEXINGTON THEATER</td>\n",
       "      <td>129 E 3RD ST</td>\n",
       "      <td>Indefinido</td>\n",
       "      <td>Restaurant</td>\n",
       "      <td>35</td>\n",
       "    </tr>\n",
       "  </tbody>\n",
       "</table>\n",
       "</div>"
      ],
      "text/plain": [
       "         id              object_name               address       chain  \\\n",
       "7408  19194  TAQUERIA LOS 3 CARNALES  5000 E WHITTIER BLVD  Indefinido   \n",
       "7523  19309     JAMMIN JIMMY'S PIZZA   1641 FIRESTONE BLVD  Indefinido   \n",
       "8648  20434    THE LEXINGTON THEATER          129 E 3RD ST  Indefinido   \n",
       "\n",
       "     object_type  number  \n",
       "7408  Restaurant      14  \n",
       "7523       Pizza       1  \n",
       "8648  Restaurant      35  "
      ]
     },
     "metadata": {},
     "output_type": "display_data"
    }
   ],
   "source": [
    "display(rest_data[rest_data['chain'] == 'Indefinido'])"
   ]
  },
  {
   "cell_type": "markdown",
   "metadata": {},
   "source": [
    "## Análise de dados"
   ]
  },
  {
   "cell_type": "markdown",
   "metadata": {},
   "source": [
    "### Investigue as proporções de vários tipos de estabelecimentos. Construa um gráfico."
   ]
  },
  {
   "cell_type": "markdown",
   "metadata": {},
   "source": [
    "Para fazer essa análise, primeiramente é necessário fazer um filtro para que seja calcuculado os valores que mais se repetem, vou fazer isso usando o value_counts()"
   ]
  },
  {
   "cell_type": "code",
   "execution_count": 98,
   "metadata": {},
   "outputs": [
    {
     "data": {
      "text/html": [
       "<div>\n",
       "<style scoped>\n",
       "    .dataframe tbody tr th:only-of-type {\n",
       "        vertical-align: middle;\n",
       "    }\n",
       "\n",
       "    .dataframe tbody tr th {\n",
       "        vertical-align: top;\n",
       "    }\n",
       "\n",
       "    .dataframe thead th {\n",
       "        text-align: right;\n",
       "    }\n",
       "</style>\n",
       "<table border=\"1\" class=\"dataframe\">\n",
       "  <thead>\n",
       "    <tr style=\"text-align: right;\">\n",
       "      <th></th>\n",
       "      <th>Tipo</th>\n",
       "      <th>Contagem_Estabelecimento</th>\n",
       "    </tr>\n",
       "  </thead>\n",
       "  <tbody>\n",
       "    <tr>\n",
       "      <th>0</th>\n",
       "      <td>Restaurant</td>\n",
       "      <td>7255</td>\n",
       "    </tr>\n",
       "    <tr>\n",
       "      <th>1</th>\n",
       "      <td>Fast Food</td>\n",
       "      <td>1066</td>\n",
       "    </tr>\n",
       "    <tr>\n",
       "      <th>2</th>\n",
       "      <td>Cafe</td>\n",
       "      <td>435</td>\n",
       "    </tr>\n",
       "    <tr>\n",
       "      <th>3</th>\n",
       "      <td>Pizza</td>\n",
       "      <td>320</td>\n",
       "    </tr>\n",
       "    <tr>\n",
       "      <th>4</th>\n",
       "      <td>Bar</td>\n",
       "      <td>292</td>\n",
       "    </tr>\n",
       "    <tr>\n",
       "      <th>5</th>\n",
       "      <td>Bakery</td>\n",
       "      <td>283</td>\n",
       "    </tr>\n",
       "  </tbody>\n",
       "</table>\n",
       "</div>"
      ],
      "text/plain": [
       "         Tipo  Contagem_Estabelecimento\n",
       "0  Restaurant                      7255\n",
       "1   Fast Food                      1066\n",
       "2        Cafe                       435\n",
       "3       Pizza                       320\n",
       "4         Bar                       292\n",
       "5      Bakery                       283"
      ]
     },
     "metadata": {},
     "output_type": "display_data"
    }
   ],
   "source": [
    "top_rest_type = rest_data['object_type'].value_counts().reset_index()\n",
    "\n",
    "top_rest_type.columns = ['Tipo','Contagem_Estabelecimento']\n",
    "\n",
    "\n",
    "display(top_rest_type)"
   ]
  },
  {
   "cell_type": "code",
   "execution_count": 99,
   "metadata": {
    "scrolled": false
   },
   "outputs": [
    {
     "data": {
      "image/png": "[encoded data removed]",
      "text/plain": [
       "<Figure size 1000x600 with 1 Axes>"
      ]
     },
     "metadata": {},
     "output_type": "display_data"
    }
   ],
   "source": [
    "#plotando o gráfico.\n",
    "plt.figure(figsize=(10, 6))\n",
    "ax = sns.barplot(data=top_rest_type, x='Tipo', y='Contagem_Estabelecimento', palette=\"pastel\")\n",
    "\n",
    "#definindo valores para aparecem no topo de cada barra\n",
    "for p in ax.patches:\n",
    "    ax.annotate(f'{p.get_height():.0f}',          \n",
    "                (p.get_x() + p.get_width() / 2,   \n",
    "                 p.get_height()),                 \n",
    "                ha='center', va='bottom',          \n",
    "                fontsize=10, color='black')        \n",
    "\n",
    "plt.title('Estabelecimentos mais comuns')\n",
    "plt.show()\n"
   ]
  },
  {
   "cell_type": "markdown",
   "metadata": {},
   "source": [
    "De todos os tipos de estabelecimento, Restaurante sem dúvidas tem destaque com 7255 estabelecimentos. Em segundo lugar, temos fast food e em terceiro, cafés, que somando os dois, não se aproxima nem da metade da contagem de restaurantes."
   ]
  },
  {
   "cell_type": "markdown",
   "metadata": {},
   "source": [
    "### Investigue as proporções de estabelecimentos de rede e não. Construa um gráfico."
   ]
  },
  {
   "cell_type": "markdown",
   "metadata": {},
   "source": [
    "Como foi feito acima, primeiro é necessário fazer um cálculo antes de plotar o gráfico. Vamos usar o value_counts."
   ]
  },
  {
   "cell_type": "code",
   "execution_count": 100,
   "metadata": {
    "scrolled": true
   },
   "outputs": [
    {
     "data": {
      "text/html": [
       "<div>\n",
       "<style scoped>\n",
       "    .dataframe tbody tr th:only-of-type {\n",
       "        vertical-align: middle;\n",
       "    }\n",
       "\n",
       "    .dataframe tbody tr th {\n",
       "        vertical-align: top;\n",
       "    }\n",
       "\n",
       "    .dataframe thead th {\n",
       "        text-align: right;\n",
       "    }\n",
       "</style>\n",
       "<table border=\"1\" class=\"dataframe\">\n",
       "  <thead>\n",
       "    <tr style=\"text-align: right;\">\n",
       "      <th></th>\n",
       "      <th>Tipo</th>\n",
       "      <th>Contagem</th>\n",
       "    </tr>\n",
       "  </thead>\n",
       "  <tbody>\n",
       "    <tr>\n",
       "      <th>0</th>\n",
       "      <td>False</td>\n",
       "      <td>5972</td>\n",
       "    </tr>\n",
       "    <tr>\n",
       "      <th>1</th>\n",
       "      <td>True</td>\n",
       "      <td>3676</td>\n",
       "    </tr>\n",
       "    <tr>\n",
       "      <th>2</th>\n",
       "      <td>Indefinido</td>\n",
       "      <td>3</td>\n",
       "    </tr>\n",
       "  </tbody>\n",
       "</table>\n",
       "</div>"
      ],
      "text/plain": [
       "         Tipo  Contagem\n",
       "0       False      5972\n",
       "1        True      3676\n",
       "2  Indefinido         3"
      ]
     },
     "metadata": {},
     "output_type": "display_data"
    }
   ],
   "source": [
    "chain = rest_data['chain'].value_counts().reset_index()\n",
    "chain.columns=['Tipo', 'Contagem']\n",
    "display(chain)"
   ]
  },
  {
   "cell_type": "code",
   "execution_count": 101,
   "metadata": {},
   "outputs": [
    {
     "data": {
      "image/png": "[encoded data removed]",
      "text/plain": [
       "<Figure size 640x480 with 1 Axes>"
      ]
     },
     "metadata": {},
     "output_type": "display_data"
    }
   ],
   "source": [
    "ax = sns.barplot(data=chain, x='Tipo', y='Contagem', palette=\"Set2\")\n",
    "\n",
    "#definindo valores para aparecem no topo de cada barra\n",
    "for p in ax.patches:\n",
    "    ax.annotate(f'{p.get_height():.0f}',          \n",
    "                (p.get_x() + p.get_width() / 2,   \n",
    "                 p.get_height()),                 \n",
    "                ha='center', va='bottom',          \n",
    "                fontsize=10, color='black')   \n",
    "\n",
    "ax.set_xticklabels(['Não Rede', 'Rede', 'Indefinido'])\n",
    "plt.title('Quantidade de restaurantes de rede e não rede')\n",
    "plt.show()"
   ]
  },
  {
   "cell_type": "markdown",
   "metadata": {},
   "source": [
    "Existem 5972 estabelecimentos que não são redes e 3676 que são redes. <br>\n",
    "Geralmente, fast-food costumam ser restaurante de redes, será que esse é o caso? "
   ]
  },
  {
   "cell_type": "markdown",
   "metadata": {},
   "source": [
    "### Qual tipo de estabelecimento é típico para redes?"
   ]
  },
  {
   "cell_type": "markdown",
   "metadata": {},
   "source": [
    "Para fazer essa contagem, é necessário fazer um filtr por estabelecimento de é ou não rede. <br>\n",
    "Vamos filtrar o chain == true e depois fazer uma contagem dos tipos de estabelecimentos."
   ]
  },
  {
   "cell_type": "code",
   "execution_count": 102,
   "metadata": {
    "scrolled": true
   },
   "outputs": [
    {
     "data": {
      "text/html": [
       "<div>\n",
       "<style scoped>\n",
       "    .dataframe tbody tr th:only-of-type {\n",
       "        vertical-align: middle;\n",
       "    }\n",
       "\n",
       "    .dataframe tbody tr th {\n",
       "        vertical-align: top;\n",
       "    }\n",
       "\n",
       "    .dataframe thead th {\n",
       "        text-align: right;\n",
       "    }\n",
       "</style>\n",
       "<table border=\"1\" class=\"dataframe\">\n",
       "  <thead>\n",
       "    <tr style=\"text-align: right;\">\n",
       "      <th></th>\n",
       "      <th>Tipo</th>\n",
       "      <th>Contagem_Franquia</th>\n",
       "    </tr>\n",
       "  </thead>\n",
       "  <tbody>\n",
       "    <tr>\n",
       "      <th>0</th>\n",
       "      <td>Restaurant</td>\n",
       "      <td>2292</td>\n",
       "    </tr>\n",
       "    <tr>\n",
       "      <th>1</th>\n",
       "      <td>Fast Food</td>\n",
       "      <td>605</td>\n",
       "    </tr>\n",
       "    <tr>\n",
       "      <th>2</th>\n",
       "      <td>Bakery</td>\n",
       "      <td>283</td>\n",
       "    </tr>\n",
       "    <tr>\n",
       "      <th>3</th>\n",
       "      <td>Cafe</td>\n",
       "      <td>266</td>\n",
       "    </tr>\n",
       "    <tr>\n",
       "      <th>4</th>\n",
       "      <td>Pizza</td>\n",
       "      <td>153</td>\n",
       "    </tr>\n",
       "    <tr>\n",
       "      <th>5</th>\n",
       "      <td>Bar</td>\n",
       "      <td>77</td>\n",
       "    </tr>\n",
       "  </tbody>\n",
       "</table>\n",
       "</div>"
      ],
      "text/plain": [
       "         Tipo  Contagem_Franquia\n",
       "0  Restaurant               2292\n",
       "1   Fast Food                605\n",
       "2      Bakery                283\n",
       "3        Cafe                266\n",
       "4       Pizza                153\n",
       "5         Bar                 77"
      ]
     },
     "metadata": {},
     "output_type": "display_data"
    }
   ],
   "source": [
    "chain_type = rest_data[rest_data['chain'] == True]\n",
    "count = chain_type['object_type'].value_counts().reset_index(name='count')\n",
    "count.columns=('Tipo', 'Contagem_Franquia')\n",
    "\n",
    "display(count)"
   ]
  },
  {
   "cell_type": "code",
   "execution_count": 103,
   "metadata": {},
   "outputs": [
    {
     "data": {
      "image/png": "[encoded data removed]",
      "text/plain": [
       "<Figure size 640x480 with 1 Axes>"
      ]
     },
     "metadata": {},
     "output_type": "display_data"
    }
   ],
   "source": [
    "#plotando\n",
    "\n",
    "ax = sns.barplot(data=count, x='Tipo', y='Contagem_Franquia', palette=\"Paired\")\n",
    "\n",
    "#definindo valores para aparecem no topo de cada barra\n",
    "for p in ax.patches:\n",
    "    ax.annotate(f'{p.get_height():.0f}',          \n",
    "                (p.get_x() + p.get_width() / 2,   \n",
    "                 p.get_height()),                 \n",
    "                ha='center', va='bottom',          \n",
    "                fontsize=10, color='black')   \n",
    "\n",
    "plt.title('Estabelecimentos de rede mais comuns')\n",
    "plt.show()"
   ]
  },
  {
   "cell_type": "markdown",
   "metadata": {},
   "source": [
    "Vamos analisar esses dados juntos com a quantidade total de estabelecimentos para entender o quanto as franquias representam no valor total."
   ]
  },
  {
   "cell_type": "code",
   "execution_count": 110,
   "metadata": {},
   "outputs": [
    {
     "data": {
      "text/html": [
       "<div>\n",
       "<style scoped>\n",
       "    .dataframe tbody tr th:only-of-type {\n",
       "        vertical-align: middle;\n",
       "    }\n",
       "\n",
       "    .dataframe tbody tr th {\n",
       "        vertical-align: top;\n",
       "    }\n",
       "\n",
       "    .dataframe thead th {\n",
       "        text-align: right;\n",
       "    }\n",
       "</style>\n",
       "<table border=\"1\" class=\"dataframe\">\n",
       "  <thead>\n",
       "    <tr style=\"text-align: right;\">\n",
       "      <th></th>\n",
       "      <th>Tipo</th>\n",
       "      <th>Contagem_Estabelecimento</th>\n",
       "      <th>Contagem_Franquia</th>\n",
       "    </tr>\n",
       "  </thead>\n",
       "  <tbody>\n",
       "    <tr>\n",
       "      <th>0</th>\n",
       "      <td>Restaurant</td>\n",
       "      <td>7255</td>\n",
       "      <td>2292</td>\n",
       "    </tr>\n",
       "    <tr>\n",
       "      <th>1</th>\n",
       "      <td>Fast Food</td>\n",
       "      <td>1066</td>\n",
       "      <td>605</td>\n",
       "    </tr>\n",
       "    <tr>\n",
       "      <th>2</th>\n",
       "      <td>Cafe</td>\n",
       "      <td>435</td>\n",
       "      <td>266</td>\n",
       "    </tr>\n",
       "    <tr>\n",
       "      <th>3</th>\n",
       "      <td>Pizza</td>\n",
       "      <td>320</td>\n",
       "      <td>153</td>\n",
       "    </tr>\n",
       "    <tr>\n",
       "      <th>4</th>\n",
       "      <td>Bar</td>\n",
       "      <td>292</td>\n",
       "      <td>77</td>\n",
       "    </tr>\n",
       "    <tr>\n",
       "      <th>5</th>\n",
       "      <td>Bakery</td>\n",
       "      <td>283</td>\n",
       "      <td>283</td>\n",
       "    </tr>\n",
       "  </tbody>\n",
       "</table>\n",
       "</div>"
      ],
      "text/plain": [
       "         Tipo  Contagem_Estabelecimento  Contagem_Franquia\n",
       "0  Restaurant                      7255               2292\n",
       "1   Fast Food                      1066                605\n",
       "2        Cafe                       435                266\n",
       "3       Pizza                       320                153\n",
       "4         Bar                       292                 77\n",
       "5      Bakery                       283                283"
      ]
     },
     "execution_count": 110,
     "metadata": {},
     "output_type": "execute_result"
    }
   ],
   "source": [
    "#primeiro, vamos juntar os dados de top_rest_type com o count usando merge\n",
    "merged_data = pd.merge(top_rest_type, count, on='Tipo', how='left')\n",
    "\n",
    "merged_data"
   ]
  },
  {
   "cell_type": "code",
   "execution_count": 113,
   "metadata": {
    "scrolled": false
   },
   "outputs": [
    {
     "data": {
      "text/html": [
       "<div>\n",
       "<style scoped>\n",
       "    .dataframe tbody tr th:only-of-type {\n",
       "        vertical-align: middle;\n",
       "    }\n",
       "\n",
       "    .dataframe tbody tr th {\n",
       "        vertical-align: top;\n",
       "    }\n",
       "\n",
       "    .dataframe thead th {\n",
       "        text-align: right;\n",
       "    }\n",
       "</style>\n",
       "<table border=\"1\" class=\"dataframe\">\n",
       "  <thead>\n",
       "    <tr style=\"text-align: right;\">\n",
       "      <th></th>\n",
       "      <th>Tipo</th>\n",
       "      <th>Contagem_Estabelecimento</th>\n",
       "      <th>Contagem_Franquia</th>\n",
       "      <th>Proporção (%)</th>\n",
       "    </tr>\n",
       "  </thead>\n",
       "  <tbody>\n",
       "    <tr>\n",
       "      <th>0</th>\n",
       "      <td>Restaurant</td>\n",
       "      <td>7255</td>\n",
       "      <td>2292</td>\n",
       "      <td>31.592006</td>\n",
       "    </tr>\n",
       "    <tr>\n",
       "      <th>1</th>\n",
       "      <td>Fast Food</td>\n",
       "      <td>1066</td>\n",
       "      <td>605</td>\n",
       "      <td>56.754221</td>\n",
       "    </tr>\n",
       "    <tr>\n",
       "      <th>2</th>\n",
       "      <td>Cafe</td>\n",
       "      <td>435</td>\n",
       "      <td>266</td>\n",
       "      <td>61.149425</td>\n",
       "    </tr>\n",
       "    <tr>\n",
       "      <th>3</th>\n",
       "      <td>Pizza</td>\n",
       "      <td>320</td>\n",
       "      <td>153</td>\n",
       "      <td>47.812500</td>\n",
       "    </tr>\n",
       "    <tr>\n",
       "      <th>4</th>\n",
       "      <td>Bar</td>\n",
       "      <td>292</td>\n",
       "      <td>77</td>\n",
       "      <td>26.369863</td>\n",
       "    </tr>\n",
       "    <tr>\n",
       "      <th>5</th>\n",
       "      <td>Bakery</td>\n",
       "      <td>283</td>\n",
       "      <td>283</td>\n",
       "      <td>100.000000</td>\n",
       "    </tr>\n",
       "  </tbody>\n",
       "</table>\n",
       "</div>"
      ],
      "text/plain": [
       "         Tipo  Contagem_Estabelecimento  Contagem_Franquia  Proporção (%)\n",
       "0  Restaurant                      7255               2292      31.592006\n",
       "1   Fast Food                      1066                605      56.754221\n",
       "2        Cafe                       435                266      61.149425\n",
       "3       Pizza                       320                153      47.812500\n",
       "4         Bar                       292                 77      26.369863\n",
       "5      Bakery                       283                283     100.000000"
      ]
     },
     "metadata": {},
     "output_type": "display_data"
    },
    {
     "data": {
      "image/png": "[encoded data removed]",
      "text/plain": [
       "<Figure size 1000x600 with 1 Axes>"
      ]
     },
     "metadata": {},
     "output_type": "display_data"
    }
   ],
   "source": [
    "# calculando a proporção de franquias em relação ao total para cada tipo de estabelecimento\n",
    "merged_data['Proporção (%)'] = (merged_data['Contagem_Franquia'] / merged_data['Contagem_Estabelecimento']) * 100\n",
    "\n",
    "# Visualizando o DataFrame resultante\n",
    "display(merged_data)\n",
    "\n",
    "# Plotando o gráfico\n",
    "plt.figure(figsize=(10, 6))\n",
    "ax = sns.barplot(data=merged_data, x='Tipo', y='Proporção (%)', palette=\"coolwarm\")\n",
    "\n",
    "# Adicionar valores de porcentagem no topo de cada barra\n",
    "for p in ax.patches:\n",
    "    ax.annotate(f'{p.get_height():.1f}%', \n",
    "                (p.get_x() + p.get_width() / 2, \n",
    "                 p.get_height()), \n",
    "                ha='center', va='bottom',\n",
    "                fontsize=10, color='black')\n",
    "\n",
    "plt.title('Proporção de Franquias sobre o Total de Estabelecimentos por Tipo')\n",
    "plt.ylabel('Proporção de Franquias (%)')\n",
    "plt.xlabel('Tipo de Estabelecimento')\n",
    "plt.xticks(rotation=45)\n",
    "plt.show()\n"
   ]
  },
  {
   "cell_type": "markdown",
   "metadata": {},
   "source": [
    "Apesar de ser maior número, aqui os restaurantes representam apenas 31,6% de franquias, enquanto padarias e café representam os maiores números, sendo 100% e 61%, respectivamente. Curiosamente, fast food que também costumam ser franquias, aqui representam apenas 57%, um pouco mais da metade."
   ]
  },
  {
   "cell_type": "markdown",
   "metadata": {},
   "source": [
    "### O que caracteriza redes: muitos estabelecimentos com um pequeno número de assentos ou poucos estabelecimentos com muitos assentos?"
   ]
  },
  {
   "cell_type": "markdown",
   "metadata": {},
   "source": [
    "Em primeiro lugar, vamos verificar a média de assentos por estabelecimentos usando o describe()"
   ]
  },
  {
   "cell_type": "code",
   "execution_count": 15,
   "metadata": {},
   "outputs": [
    {
     "data": {
      "text/plain": [
       "count    3676.000000\n",
       "mean       39.694233\n",
       "std        43.437212\n",
       "min         1.000000\n",
       "25%        13.000000\n",
       "50%        25.000000\n",
       "75%        44.000000\n",
       "max       229.000000\n",
       "Name: number, dtype: float64"
      ]
     },
     "execution_count": 15,
     "metadata": {},
     "output_type": "execute_result"
    }
   ],
   "source": [
    "chain_type['number'].describe()"
   ]
  },
  {
   "cell_type": "markdown",
   "metadata": {},
   "source": [
    "Com esses dados podemos concluir que a média de assentos é de 39 e o percentil 75% é de 44, ou seja, Se um estabelecimento possui mais de 44 assentos, ele está entre os 25% com o maior número de assentos.\n",
    "\n",
    "Vamos plotar um gráfico de caixa para demonstrar a distribuição de assentos."
   ]
  },
  {
   "cell_type": "code",
   "execution_count": 116,
   "metadata": {},
   "outputs": [
    {
     "data": {
      "image/png": "[encoded data removed]",
      "text/plain": [
       "<Figure size 1000x1000 with 1 Axes>"
      ]
     },
     "metadata": {},
     "output_type": "display_data"
    }
   ],
   "source": [
    "plt.figure(figsize=(10,10))\n",
    "plt.title('Distribuição de assentos por estabelecimentos de rede')\n",
    "plt.axhline(np.percentile(chain_type['number'], 75))\n",
    "sns.boxplot(x=\"chain\", y=\"number\", data=chain_type, palette='rainbow')\n",
    "\n",
    "plt.ylabel('Número de assentos')\n",
    "plt.xlabel('Rede')\n",
    "plt.show()"
   ]
  },
  {
   "cell_type": "markdown",
   "metadata": {},
   "source": [
    "Em estabelecimentos de rede, há um grande número de assentos se o número for superior a 44.\n",
    "\n",
    "Podemos concluir, então, que há muitos estabelecimentos com um pequeno número de assentos entre os estabelecimentos de rede"
   ]
  },
  {
   "cell_type": "markdown",
   "metadata": {},
   "source": [
    "### Determine o número médio de assentos para cada tipo de restaurante. Em média, qual tipo de restaurante tem o maior número de assentos? Construa gráficos."
   ]
  },
  {
   "cell_type": "markdown",
   "metadata": {},
   "source": [
    "Vamos fazer um groupby para filtrar a média de assentos por tipo de restaurantes e depois um gráfico de caixa para demonstrar esses valores"
   ]
  },
  {
   "cell_type": "code",
   "execution_count": 17,
   "metadata": {},
   "outputs": [
    {
     "name": "stdout",
     "output_type": "stream",
     "text": [
      "A quantidade média de assentos por restaurante é de:\n"
     ]
    },
    {
     "data": {
      "text/html": [
       "<div>\n",
       "<style scoped>\n",
       "    .dataframe tbody tr th:only-of-type {\n",
       "        vertical-align: middle;\n",
       "    }\n",
       "\n",
       "    .dataframe tbody tr th {\n",
       "        vertical-align: top;\n",
       "    }\n",
       "\n",
       "    .dataframe thead th {\n",
       "        text-align: right;\n",
       "    }\n",
       "</style>\n",
       "<table border=\"1\" class=\"dataframe\">\n",
       "  <thead>\n",
       "    <tr style=\"text-align: right;\">\n",
       "      <th></th>\n",
       "      <th>object_type</th>\n",
       "      <th>number</th>\n",
       "    </tr>\n",
       "  </thead>\n",
       "  <tbody>\n",
       "    <tr>\n",
       "      <th>5</th>\n",
       "      <td>Restaurant</td>\n",
       "      <td>48</td>\n",
       "    </tr>\n",
       "    <tr>\n",
       "      <th>1</th>\n",
       "      <td>Bar</td>\n",
       "      <td>44</td>\n",
       "    </tr>\n",
       "    <tr>\n",
       "      <th>3</th>\n",
       "      <td>Fast Food</td>\n",
       "      <td>31</td>\n",
       "    </tr>\n",
       "    <tr>\n",
       "      <th>4</th>\n",
       "      <td>Pizza</td>\n",
       "      <td>28</td>\n",
       "    </tr>\n",
       "    <tr>\n",
       "      <th>2</th>\n",
       "      <td>Cafe</td>\n",
       "      <td>25</td>\n",
       "    </tr>\n",
       "    <tr>\n",
       "      <th>0</th>\n",
       "      <td>Bakery</td>\n",
       "      <td>21</td>\n",
       "    </tr>\n",
       "  </tbody>\n",
       "</table>\n",
       "</div>"
      ],
      "text/plain": [
       "  object_type  number\n",
       "5  Restaurant      48\n",
       "1         Bar      44\n",
       "3   Fast Food      31\n",
       "4       Pizza      28\n",
       "2        Cafe      25\n",
       "0      Bakery      21"
      ]
     },
     "metadata": {},
     "output_type": "display_data"
    }
   ],
   "source": [
    "avg_seats = rest_data.groupby(['object_type'])['number'].mean().reset_index()\n",
    "avg_seats['number'] = avg_seats['number'].astype('int')\n",
    "print('A quantidade média de assentos por restaurante é de:')\n",
    "display(avg_seats.sort_values(by='number', ascending=False))"
   ]
  },
  {
   "cell_type": "code",
   "execution_count": 18,
   "metadata": {},
   "outputs": [
    {
     "data": {
      "image/png": "[encoded data removed]",
      "text/plain": [
       "<Figure size 1400x800 with 1 Axes>"
      ]
     },
     "metadata": {},
     "output_type": "display_data"
    }
   ],
   "source": [
    "plt.figure(figsize=(14,8))\n",
    "ax = sns.boxplot(x=\"object_type\", y=\"number\", data=rest_data,showfliers = False, palette=\"Set3\")\n",
    "\n",
    "   \n",
    "plt.title('Distribuição do número de assentos por restaurante')\n",
    "plt.ylabel('Número de assentos')\n",
    "plt.xlabel('Tipo de estabelecimento')\n",
    "plt.show()"
   ]
  },
  {
   "cell_type": "markdown",
   "metadata": {},
   "source": [
    "A quantidade média de assentos por restaurante ficou assim:\n",
    "\n",
    "- Restaurantes 48\n",
    "- Bares 44\n",
    "- Fast Food 31\n",
    "- Pizza 28\n",
    "- Cafés 25\n",
    "- Padarias 21\n",
    "\n",
    "Podemos concluir que os restaurantes tem os maiores números de assentos, seguidos de bares e fast foods."
   ]
  },
  {
   "cell_type": "markdown",
   "metadata": {},
   "source": [
    "### Coloque os dados dos nomes das ruas da coluna address em uma coluna separada."
   ]
  },
  {
   "cell_type": "code",
   "execution_count": 19,
   "metadata": {},
   "outputs": [
    {
     "data": {
      "text/html": [
       "<div>\n",
       "<style scoped>\n",
       "    .dataframe tbody tr th:only-of-type {\n",
       "        vertical-align: middle;\n",
       "    }\n",
       "\n",
       "    .dataframe tbody tr th {\n",
       "        vertical-align: top;\n",
       "    }\n",
       "\n",
       "    .dataframe thead th {\n",
       "        text-align: right;\n",
       "    }\n",
       "</style>\n",
       "<table border=\"1\" class=\"dataframe\">\n",
       "  <thead>\n",
       "    <tr style=\"text-align: right;\">\n",
       "      <th></th>\n",
       "      <th>id</th>\n",
       "      <th>object_name</th>\n",
       "      <th>address</th>\n",
       "      <th>chain</th>\n",
       "      <th>object_type</th>\n",
       "      <th>number</th>\n",
       "    </tr>\n",
       "  </thead>\n",
       "  <tbody>\n",
       "    <tr>\n",
       "      <th>0</th>\n",
       "      <td>11786</td>\n",
       "      <td>HABITAT COFFEE SHOP</td>\n",
       "      <td>3708 N EAGLE ROCK BLVD</td>\n",
       "      <td>False</td>\n",
       "      <td>Cafe</td>\n",
       "      <td>26</td>\n",
       "    </tr>\n",
       "    <tr>\n",
       "      <th>1</th>\n",
       "      <td>11787</td>\n",
       "      <td>REILLY'S</td>\n",
       "      <td>100 WORLD WAY 120</td>\n",
       "      <td>False</td>\n",
       "      <td>Restaurant</td>\n",
       "      <td>9</td>\n",
       "    </tr>\n",
       "    <tr>\n",
       "      <th>2</th>\n",
       "      <td>11788</td>\n",
       "      <td>STREET CHURROS</td>\n",
       "      <td>6801 HOLLYWOOD BLVD 253</td>\n",
       "      <td>False</td>\n",
       "      <td>Fast Food</td>\n",
       "      <td>20</td>\n",
       "    </tr>\n",
       "    <tr>\n",
       "      <th>3</th>\n",
       "      <td>11789</td>\n",
       "      <td>TRINITI ECHO PARK</td>\n",
       "      <td>1814 W SUNSET BLVD</td>\n",
       "      <td>False</td>\n",
       "      <td>Restaurant</td>\n",
       "      <td>22</td>\n",
       "    </tr>\n",
       "    <tr>\n",
       "      <th>4</th>\n",
       "      <td>11790</td>\n",
       "      <td>POLLEN</td>\n",
       "      <td>2100 ECHO PARK AVE</td>\n",
       "      <td>False</td>\n",
       "      <td>Restaurant</td>\n",
       "      <td>20</td>\n",
       "    </tr>\n",
       "    <tr>\n",
       "      <th>...</th>\n",
       "      <td>...</td>\n",
       "      <td>...</td>\n",
       "      <td>...</td>\n",
       "      <td>...</td>\n",
       "      <td>...</td>\n",
       "      <td>...</td>\n",
       "    </tr>\n",
       "    <tr>\n",
       "      <th>9646</th>\n",
       "      <td>21432</td>\n",
       "      <td>HALL OF JUSTICE</td>\n",
       "      <td>217 W TEMPLE AVE</td>\n",
       "      <td>False</td>\n",
       "      <td>Restaurant</td>\n",
       "      <td>122</td>\n",
       "    </tr>\n",
       "    <tr>\n",
       "      <th>9647</th>\n",
       "      <td>21433</td>\n",
       "      <td>FIN-MELROSE</td>\n",
       "      <td>5750 MELROSE AVE</td>\n",
       "      <td>False</td>\n",
       "      <td>Restaurant</td>\n",
       "      <td>93</td>\n",
       "    </tr>\n",
       "    <tr>\n",
       "      <th>9648</th>\n",
       "      <td>21434</td>\n",
       "      <td>JUICY WINGZ</td>\n",
       "      <td>6741 HOLLYWOOD BLVD</td>\n",
       "      <td>True</td>\n",
       "      <td>Fast Food</td>\n",
       "      <td>15</td>\n",
       "    </tr>\n",
       "    <tr>\n",
       "      <th>9649</th>\n",
       "      <td>21435</td>\n",
       "      <td>MEDIDATE COFFEE</td>\n",
       "      <td>548 S SPRING ST STE 100</td>\n",
       "      <td>False</td>\n",
       "      <td>Cafe</td>\n",
       "      <td>6</td>\n",
       "    </tr>\n",
       "    <tr>\n",
       "      <th>9650</th>\n",
       "      <td>21436</td>\n",
       "      <td>CAFE SPROUTS</td>\n",
       "      <td>1300 S SAN PEDRO ST STE 111</td>\n",
       "      <td>True</td>\n",
       "      <td>Restaurant</td>\n",
       "      <td>19</td>\n",
       "    </tr>\n",
       "  </tbody>\n",
       "</table>\n",
       "<p>9651 rows × 6 columns</p>\n",
       "</div>"
      ],
      "text/plain": [
       "         id          object_name                      address  chain  \\\n",
       "0     11786  HABITAT COFFEE SHOP       3708 N EAGLE ROCK BLVD  False   \n",
       "1     11787             REILLY'S            100 WORLD WAY 120  False   \n",
       "2     11788       STREET CHURROS      6801 HOLLYWOOD BLVD 253  False   \n",
       "3     11789    TRINITI ECHO PARK           1814 W SUNSET BLVD  False   \n",
       "4     11790               POLLEN           2100 ECHO PARK AVE  False   \n",
       "...     ...                  ...                          ...    ...   \n",
       "9646  21432      HALL OF JUSTICE             217 W TEMPLE AVE  False   \n",
       "9647  21433          FIN-MELROSE             5750 MELROSE AVE  False   \n",
       "9648  21434          JUICY WINGZ          6741 HOLLYWOOD BLVD   True   \n",
       "9649  21435      MEDIDATE COFFEE      548 S SPRING ST STE 100  False   \n",
       "9650  21436         CAFE SPROUTS  1300 S SAN PEDRO ST STE 111   True   \n",
       "\n",
       "     object_type  number  \n",
       "0           Cafe      26  \n",
       "1     Restaurant       9  \n",
       "2      Fast Food      20  \n",
       "3     Restaurant      22  \n",
       "4     Restaurant      20  \n",
       "...          ...     ...  \n",
       "9646  Restaurant     122  \n",
       "9647  Restaurant      93  \n",
       "9648   Fast Food      15  \n",
       "9649        Cafe       6  \n",
       "9650  Restaurant      19  \n",
       "\n",
       "[9651 rows x 6 columns]"
      ]
     },
     "metadata": {},
     "output_type": "display_data"
    }
   ],
   "source": [
    "#vamos olhar o df rest_data novamente\n",
    "\n",
    "display(rest_data)"
   ]
  },
  {
   "cell_type": "markdown",
   "metadata": {},
   "source": [
    "Precisamso primeiro entender como funciona o padrão dos endereços americanos:\n",
    "Eles começam com número, nome da rua e o tipo de logradouro (rua, avenida, alameda, etc).\n",
    "\n",
    "Precisamos então definir alguns desses termos em inglês. Sabemos que BLVD, ST, AVE, RD, DR e Way são os termos mais comuns de logradouros, então vamos passá-los para uma lista."
   ]
  },
  {
   "cell_type": "code",
   "execution_count": 20,
   "metadata": {},
   "outputs": [],
   "source": [
    "logra = ['BLVD','ST','AVE','RD','DR','WAY']"
   ]
  },
  {
   "cell_type": "markdown",
   "metadata": {},
   "source": [
    "Vamos definir uma função que combina a lógica de filtrar o nome da rua e ao mesmo tempo extrair as partes relevantes do endereço."
   ]
  },
  {
   "cell_type": "code",
   "execution_count": 21,
   "metadata": {},
   "outputs": [],
   "source": [
    "def get_street_and_filter(address):\n",
    "    split_address = address.replace(\"#\", \"\").replace(\"/\", \"\").split()\n",
    "    new_street = []\n",
    "    \n",
    "    for word in split_address:\n",
    "        if word.isdigit():\n",
    "            continue  # Ignora números\n",
    "        if word in logra:\n",
    "            new_street.append(word)\n",
    "            break  # Para de adicionar se encontrar um dos finais\n",
    "        new_street.append(word)\n",
    "    \n",
    "    return ' '.join(new_street)\n",
    "\n",
    "# Aplica a função ao DataFrame\n",
    "rest_data['street'] = rest_data['address'].apply(get_street_and_filter)\n"
   ]
  },
  {
   "cell_type": "code",
   "execution_count": 22,
   "metadata": {
    "scrolled": true
   },
   "outputs": [
    {
     "data": {
      "text/plain": [
       "WILSHIRE BLVD        384\n",
       "W SUNSET BLVD        368\n",
       "W PICO BLVD          342\n",
       "S WESTERN AVE        277\n",
       "SANTA MONICA BLVD    262\n",
       "HOLLYWOOD BLVD       241\n",
       "W OLYMPIC BLVD       234\n",
       "W 3RD ST             231\n",
       "S FIGUEROA ST        228\n",
       "W 6TH ST             213\n",
       "Name: street, dtype: int64"
      ]
     },
     "execution_count": 22,
     "metadata": {},
     "output_type": "execute_result"
    }
   ],
   "source": [
    "rest_data['street'].value_counts().head(10)"
   ]
  },
  {
   "cell_type": "markdown",
   "metadata": {},
   "source": [
    "### Construa um gráfico de dez ruas com o maior número de restaurantes."
   ]
  },
  {
   "cell_type": "markdown",
   "metadata": {},
   "source": [
    "Vamos filtrar o conjunto de dados para que nos retorne apenas restaurantes e armazena-los em 'rest'."
   ]
  },
  {
   "cell_type": "code",
   "execution_count": 23,
   "metadata": {},
   "outputs": [
    {
     "data": {
      "text/html": [
       "<div>\n",
       "<style scoped>\n",
       "    .dataframe tbody tr th:only-of-type {\n",
       "        vertical-align: middle;\n",
       "    }\n",
       "\n",
       "    .dataframe tbody tr th {\n",
       "        vertical-align: top;\n",
       "    }\n",
       "\n",
       "    .dataframe thead th {\n",
       "        text-align: right;\n",
       "    }\n",
       "</style>\n",
       "<table border=\"1\" class=\"dataframe\">\n",
       "  <thead>\n",
       "    <tr style=\"text-align: right;\">\n",
       "      <th></th>\n",
       "      <th>id</th>\n",
       "      <th>object_name</th>\n",
       "      <th>address</th>\n",
       "      <th>chain</th>\n",
       "      <th>object_type</th>\n",
       "      <th>number</th>\n",
       "      <th>street</th>\n",
       "    </tr>\n",
       "  </thead>\n",
       "  <tbody>\n",
       "    <tr>\n",
       "      <th>1</th>\n",
       "      <td>11787</td>\n",
       "      <td>REILLY'S</td>\n",
       "      <td>100 WORLD WAY 120</td>\n",
       "      <td>False</td>\n",
       "      <td>Restaurant</td>\n",
       "      <td>9</td>\n",
       "      <td>WORLD WAY</td>\n",
       "    </tr>\n",
       "    <tr>\n",
       "      <th>3</th>\n",
       "      <td>11789</td>\n",
       "      <td>TRINITI ECHO PARK</td>\n",
       "      <td>1814 W SUNSET BLVD</td>\n",
       "      <td>False</td>\n",
       "      <td>Restaurant</td>\n",
       "      <td>22</td>\n",
       "      <td>W SUNSET BLVD</td>\n",
       "    </tr>\n",
       "    <tr>\n",
       "      <th>4</th>\n",
       "      <td>11790</td>\n",
       "      <td>POLLEN</td>\n",
       "      <td>2100 ECHO PARK AVE</td>\n",
       "      <td>False</td>\n",
       "      <td>Restaurant</td>\n",
       "      <td>20</td>\n",
       "      <td>ECHO PARK AVE</td>\n",
       "    </tr>\n",
       "    <tr>\n",
       "      <th>5</th>\n",
       "      <td>11791</td>\n",
       "      <td>THE SPOT GRILL</td>\n",
       "      <td>10004 NATIONAL BLVD</td>\n",
       "      <td>False</td>\n",
       "      <td>Restaurant</td>\n",
       "      <td>14</td>\n",
       "      <td>NATIONAL BLVD</td>\n",
       "    </tr>\n",
       "    <tr>\n",
       "      <th>6</th>\n",
       "      <td>11792</td>\n",
       "      <td>CPK</td>\n",
       "      <td>100 WORLD WAY 126</td>\n",
       "      <td>False</td>\n",
       "      <td>Restaurant</td>\n",
       "      <td>100</td>\n",
       "      <td>WORLD WAY</td>\n",
       "    </tr>\n",
       "    <tr>\n",
       "      <th>...</th>\n",
       "      <td>...</td>\n",
       "      <td>...</td>\n",
       "      <td>...</td>\n",
       "      <td>...</td>\n",
       "      <td>...</td>\n",
       "      <td>...</td>\n",
       "      <td>...</td>\n",
       "    </tr>\n",
       "    <tr>\n",
       "      <th>9643</th>\n",
       "      <td>21429</td>\n",
       "      <td>DIVINE DIPS</td>\n",
       "      <td>601 S LOS ANGELES ST</td>\n",
       "      <td>False</td>\n",
       "      <td>Restaurant</td>\n",
       "      <td>25</td>\n",
       "      <td>S LOS ANGELES ST</td>\n",
       "    </tr>\n",
       "    <tr>\n",
       "      <th>9645</th>\n",
       "      <td>21431</td>\n",
       "      <td>SAINT MARC</td>\n",
       "      <td>10250 SANTA MONICA BLVD 1025</td>\n",
       "      <td>False</td>\n",
       "      <td>Restaurant</td>\n",
       "      <td>225</td>\n",
       "      <td>SANTA MONICA BLVD</td>\n",
       "    </tr>\n",
       "    <tr>\n",
       "      <th>9646</th>\n",
       "      <td>21432</td>\n",
       "      <td>HALL OF JUSTICE</td>\n",
       "      <td>217 W TEMPLE AVE</td>\n",
       "      <td>False</td>\n",
       "      <td>Restaurant</td>\n",
       "      <td>122</td>\n",
       "      <td>W TEMPLE AVE</td>\n",
       "    </tr>\n",
       "    <tr>\n",
       "      <th>9647</th>\n",
       "      <td>21433</td>\n",
       "      <td>FIN-MELROSE</td>\n",
       "      <td>5750 MELROSE AVE</td>\n",
       "      <td>False</td>\n",
       "      <td>Restaurant</td>\n",
       "      <td>93</td>\n",
       "      <td>MELROSE AVE</td>\n",
       "    </tr>\n",
       "    <tr>\n",
       "      <th>9650</th>\n",
       "      <td>21436</td>\n",
       "      <td>CAFE SPROUTS</td>\n",
       "      <td>1300 S SAN PEDRO ST STE 111</td>\n",
       "      <td>True</td>\n",
       "      <td>Restaurant</td>\n",
       "      <td>19</td>\n",
       "      <td>S SAN PEDRO ST</td>\n",
       "    </tr>\n",
       "  </tbody>\n",
       "</table>\n",
       "<p>7255 rows × 7 columns</p>\n",
       "</div>"
      ],
      "text/plain": [
       "         id        object_name                       address  chain  \\\n",
       "1     11787           REILLY'S             100 WORLD WAY 120  False   \n",
       "3     11789  TRINITI ECHO PARK            1814 W SUNSET BLVD  False   \n",
       "4     11790             POLLEN            2100 ECHO PARK AVE  False   \n",
       "5     11791     THE SPOT GRILL           10004 NATIONAL BLVD  False   \n",
       "6     11792                CPK             100 WORLD WAY 126  False   \n",
       "...     ...                ...                           ...    ...   \n",
       "9643  21429        DIVINE DIPS          601 S LOS ANGELES ST  False   \n",
       "9645  21431         SAINT MARC  10250 SANTA MONICA BLVD 1025  False   \n",
       "9646  21432    HALL OF JUSTICE              217 W TEMPLE AVE  False   \n",
       "9647  21433        FIN-MELROSE              5750 MELROSE AVE  False   \n",
       "9650  21436       CAFE SPROUTS   1300 S SAN PEDRO ST STE 111   True   \n",
       "\n",
       "     object_type  number             street  \n",
       "1     Restaurant       9          WORLD WAY  \n",
       "3     Restaurant      22      W SUNSET BLVD  \n",
       "4     Restaurant      20      ECHO PARK AVE  \n",
       "5     Restaurant      14      NATIONAL BLVD  \n",
       "6     Restaurant     100          WORLD WAY  \n",
       "...          ...     ...                ...  \n",
       "9643  Restaurant      25   S LOS ANGELES ST  \n",
       "9645  Restaurant     225  SANTA MONICA BLVD  \n",
       "9646  Restaurant     122       W TEMPLE AVE  \n",
       "9647  Restaurant      93        MELROSE AVE  \n",
       "9650  Restaurant      19     S SAN PEDRO ST  \n",
       "\n",
       "[7255 rows x 7 columns]"
      ]
     },
     "metadata": {},
     "output_type": "display_data"
    }
   ],
   "source": [
    "rest = rest_data[rest_data['object_type'] == 'Restaurant']\n",
    "\n",
    "display(rest)"
   ]
  },
  {
   "cell_type": "code",
   "execution_count": 24,
   "metadata": {
    "scrolled": true
   },
   "outputs": [
    {
     "data": {
      "text/html": [
       "<div>\n",
       "<style scoped>\n",
       "    .dataframe tbody tr th:only-of-type {\n",
       "        vertical-align: middle;\n",
       "    }\n",
       "\n",
       "    .dataframe tbody tr th {\n",
       "        vertical-align: top;\n",
       "    }\n",
       "\n",
       "    .dataframe thead th {\n",
       "        text-align: right;\n",
       "    }\n",
       "</style>\n",
       "<table border=\"1\" class=\"dataframe\">\n",
       "  <thead>\n",
       "    <tr style=\"text-align: right;\">\n",
       "      <th></th>\n",
       "      <th>Rua</th>\n",
       "      <th>Contagem</th>\n",
       "    </tr>\n",
       "  </thead>\n",
       "  <tbody>\n",
       "    <tr>\n",
       "      <th>0</th>\n",
       "      <td>WILSHIRE BLVD</td>\n",
       "      <td>309</td>\n",
       "    </tr>\n",
       "    <tr>\n",
       "      <th>1</th>\n",
       "      <td>W SUNSET BLVD</td>\n",
       "      <td>271</td>\n",
       "    </tr>\n",
       "    <tr>\n",
       "      <th>2</th>\n",
       "      <td>W PICO BLVD</td>\n",
       "      <td>257</td>\n",
       "    </tr>\n",
       "    <tr>\n",
       "      <th>3</th>\n",
       "      <td>S WESTERN AVE</td>\n",
       "      <td>219</td>\n",
       "    </tr>\n",
       "    <tr>\n",
       "      <th>4</th>\n",
       "      <td>W OLYMPIC BLVD</td>\n",
       "      <td>205</td>\n",
       "    </tr>\n",
       "    <tr>\n",
       "      <th>5</th>\n",
       "      <td>SANTA MONICA BLVD</td>\n",
       "      <td>204</td>\n",
       "    </tr>\n",
       "    <tr>\n",
       "      <th>6</th>\n",
       "      <td>HOLLYWOOD BLVD</td>\n",
       "      <td>191</td>\n",
       "    </tr>\n",
       "    <tr>\n",
       "      <th>7</th>\n",
       "      <td>W 3RD ST</td>\n",
       "      <td>185</td>\n",
       "    </tr>\n",
       "    <tr>\n",
       "      <th>8</th>\n",
       "      <td>W 6TH ST</td>\n",
       "      <td>178</td>\n",
       "    </tr>\n",
       "    <tr>\n",
       "      <th>9</th>\n",
       "      <td>S FIGUEROA ST</td>\n",
       "      <td>165</td>\n",
       "    </tr>\n",
       "  </tbody>\n",
       "</table>\n",
       "</div>"
      ],
      "text/plain": [
       "                 Rua  Contagem\n",
       "0      WILSHIRE BLVD       309\n",
       "1      W SUNSET BLVD       271\n",
       "2        W PICO BLVD       257\n",
       "3      S WESTERN AVE       219\n",
       "4     W OLYMPIC BLVD       205\n",
       "5  SANTA MONICA BLVD       204\n",
       "6     HOLLYWOOD BLVD       191\n",
       "7           W 3RD ST       185\n",
       "8           W 6TH ST       178\n",
       "9      S FIGUEROA ST       165"
      ]
     },
     "metadata": {},
     "output_type": "display_data"
    }
   ],
   "source": [
    "top10_st = rest['street'].value_counts().reset_index().head(10)\n",
    "\n",
    "top10_st.columns=['Rua', 'Contagem']\n",
    "\n",
    "display(top10_st)"
   ]
  },
  {
   "cell_type": "code",
   "execution_count": 25,
   "metadata": {},
   "outputs": [
    {
     "data": {
      "image/png": "[encoded data removed]",
      "text/plain": [
       "<Figure size 2000x800 with 1 Axes>"
      ]
     },
     "metadata": {},
     "output_type": "display_data"
    }
   ],
   "source": [
    "plt.figure(figsize=(20,8))\n",
    "\n",
    "ax = sns.barplot(data=top10_st, x='Rua', y='Contagem', palette='Set2')\n",
    "\n",
    "#definindo valores para aparecem no topo de cada barra\n",
    "for p in ax.patches:\n",
    "    ax.annotate(f'{p.get_height():.0f}',          \n",
    "                (p.get_x() + p.get_width() / 2,   \n",
    "                 p.get_height()),                 \n",
    "                ha='center', va='bottom',          \n",
    "                fontsize=10, color='black') \n",
    "    \n",
    "plt.title('Top 10 ruas com maiores concentração de restaurantes')\n",
    "plt.show()"
   ]
  },
  {
   "cell_type": "markdown",
   "metadata": {},
   "source": [
    "A Wilshire Boulevard é uma das principais ruas (ou alamedas) da área de Los Angeles, que se estende da Ocean Avenue, na cidade de Santa Monica, até a Grand Avenue, no Distrito Financeiro do centro de Los Angeles. <br>\n",
    "\n",
    "Sendo uma das principais vias arteriais leste-oeste de Los Angeles, é também uma das principais ruas da cidade de Beverly Hills. Wilshire Boulevard corre aproximadamente paralelo à Santa Monica Boulevard, de Santa Monica até o limite oeste de Beverly Hills. A partir do limite leste, ele segue uma quadra ao sul da Sixth Street até seu ponto final.\n",
    "\n",
    "A Sunset Boulevard por sua vez, é uma das ruas mais famosas e principais ruas de Los Angeles.<br>\n",
    "\n",
    "As 10 ruas que mais possuem restaurante são vias obrigatórias para turistas, moradores e a maioria das pessoas que se encontra em Los Angeles, o que faz sentido possuirem tantos estabelecimentos. E pode ser um ponto de interesse para definir onde o novo restaurante irá se localizar."
   ]
  },
  {
   "cell_type": "markdown",
   "metadata": {},
   "source": [
    "### Encontre o número de ruas que têm apenas um restaurante.\n"
   ]
  },
  {
   "cell_type": "markdown",
   "metadata": {},
   "source": [
    "Vamos contar a quantidade de restaurantes por rua e armazenar em 'one_rest', em seguida, imprimimos o valor de one_rest == 1."
   ]
  },
  {
   "cell_type": "code",
   "execution_count": 26,
   "metadata": {},
   "outputs": [],
   "source": [
    "one_rest = rest['street'].value_counts().reset_index()\n",
    "one_rest.columns=['Rua', 'Contagem']"
   ]
  },
  {
   "cell_type": "code",
   "execution_count": 27,
   "metadata": {},
   "outputs": [
    {
     "name": "stdout",
     "output_type": "stream",
     "text": [
      "Quantidade de ruas que possuem restaurantes: 740\n",
      "\n",
      "Quantidade de ruas que possuem apenas 1 restaurante: 363\n"
     ]
    }
   ],
   "source": [
    "print(f'Quantidade de ruas que possuem restaurantes:', len(rest['street'].value_counts()))\n",
    "print()\n",
    "print(f'Quantidade de ruas que possuem apenas 1 restaurante:', len(one_rest[one_rest['Contagem'] == 1]))"
   ]
  },
  {
   "cell_type": "markdown",
   "metadata": {},
   "source": [
    "Existem 740 ruas que possuem pelo menos um restaurante.\n",
    "Dentre elas, 363 possuem apenas um restaurante, o que é menos da metade do total de ruas com restaurantes."
   ]
  },
  {
   "cell_type": "markdown",
   "metadata": {},
   "source": [
    "### Para as ruas com muitos restaurantes, olhe para a distribuição de número de assentos. Quais tendências você consegue notar?\n"
   ]
  },
  {
   "cell_type": "markdown",
   "metadata": {},
   "source": [
    "Vamos encontrar o percentil 75% de restaurantes por ruas para definir o que são muitos restaurantes."
   ]
  },
  {
   "cell_type": "code",
   "execution_count": 28,
   "metadata": {},
   "outputs": [
    {
     "data": {
      "text/plain": [
       "count    740.000000\n",
       "mean       9.804054\n",
       "std       29.063427\n",
       "min        1.000000\n",
       "25%        1.000000\n",
       "50%        2.000000\n",
       "75%        6.000000\n",
       "max      309.000000\n",
       "Name: street, dtype: float64"
      ]
     },
     "execution_count": 28,
     "metadata": {},
     "output_type": "execute_result"
    }
   ],
   "source": [
    "rest['street'].value_counts().describe()"
   ]
  },
  {
   "cell_type": "markdown",
   "metadata": {},
   "source": [
    "Usando o describe, podemos definir esse número como 6. Vamos criar um dataframe que armazene somente os dados onde o número de restaruante por rua seja maior que 6."
   ]
  },
  {
   "cell_type": "code",
   "execution_count": 56,
   "metadata": {},
   "outputs": [],
   "source": [
    "street_counts = rest['street'].value_counts()\n",
    "\n",
    "# Filtrando ruas com mais de 6 restaurantes\n",
    "many_restaurants = street_counts[street_counts > 6].index\n",
    "\n",
    "# Filtrar o DataFrame original para manter apenas os restaurantes nas ruas filtradas\n",
    "many_restaurants_df = rest[rest['street'].isin(many_restaurants)]"
   ]
  },
  {
   "cell_type": "markdown",
   "metadata": {},
   "source": [
    "Agora podemos avaliar a quantidade média de assentos nesses restaurantes."
   ]
  },
  {
   "cell_type": "code",
   "execution_count": 30,
   "metadata": {},
   "outputs": [
    {
     "data": {
      "text/plain": [
       "count    6209.000000\n",
       "mean       47.705911\n",
       "std        49.775820\n",
       "min         1.000000\n",
       "25%        15.000000\n",
       "50%        29.000000\n",
       "75%        48.000000\n",
       "max       229.000000\n",
       "Name: number, dtype: float64"
      ]
     },
     "execution_count": 30,
     "metadata": {},
     "output_type": "execute_result"
    }
   ],
   "source": [
    "many_restaurants_df['number'].describe()"
   ]
  },
  {
   "cell_type": "markdown",
   "metadata": {},
   "source": [
    "Com a média de 47 assentos, é possível perceber que se tratam de restaurantes que podem receber várias pessoas ao mesmo tempo. Vamos armazenar esses dados em uma variavel para comparar com o top_10st e verificar se as ruas que mais tem restaurantes também são os restaurantes que mais possuem assentos."
   ]
  },
  {
   "cell_type": "code",
   "execution_count": 70,
   "metadata": {},
   "outputs": [],
   "source": [
    "average_seats_per_street = many_restaurants_df.groupby('street')['number'].mean().reset_index()\n",
    "average_seats_per_street.columns = ['Rua', 'Média de Assentos']\n",
    "\n",
    "top10_streets = street_comparison.head(10)"
   ]
  },
  {
   "cell_type": "code",
   "execution_count": 71,
   "metadata": {},
   "outputs": [
    {
     "data": {
      "text/html": [
       "<div>\n",
       "<style scoped>\n",
       "    .dataframe tbody tr th:only-of-type {\n",
       "        vertical-align: middle;\n",
       "    }\n",
       "\n",
       "    .dataframe tbody tr th {\n",
       "        vertical-align: top;\n",
       "    }\n",
       "\n",
       "    .dataframe thead th {\n",
       "        text-align: right;\n",
       "    }\n",
       "</style>\n",
       "<table border=\"1\" class=\"dataframe\">\n",
       "  <thead>\n",
       "    <tr style=\"text-align: right;\">\n",
       "      <th></th>\n",
       "      <th>Rua</th>\n",
       "      <th>Contagem</th>\n",
       "      <th>Média de Assentos</th>\n",
       "    </tr>\n",
       "  </thead>\n",
       "  <tbody>\n",
       "    <tr>\n",
       "      <th>0</th>\n",
       "      <td>WILSHIRE BLVD</td>\n",
       "      <td>309</td>\n",
       "      <td>56.168285</td>\n",
       "    </tr>\n",
       "    <tr>\n",
       "      <th>1</th>\n",
       "      <td>W SUNSET BLVD</td>\n",
       "      <td>271</td>\n",
       "      <td>53.915129</td>\n",
       "    </tr>\n",
       "    <tr>\n",
       "      <th>2</th>\n",
       "      <td>W PICO BLVD</td>\n",
       "      <td>257</td>\n",
       "      <td>42.653696</td>\n",
       "    </tr>\n",
       "    <tr>\n",
       "      <th>3</th>\n",
       "      <td>S WESTERN AVE</td>\n",
       "      <td>219</td>\n",
       "      <td>44.776256</td>\n",
       "    </tr>\n",
       "    <tr>\n",
       "      <th>4</th>\n",
       "      <td>W OLYMPIC BLVD</td>\n",
       "      <td>205</td>\n",
       "      <td>54.053659</td>\n",
       "    </tr>\n",
       "    <tr>\n",
       "      <th>5</th>\n",
       "      <td>SANTA MONICA BLVD</td>\n",
       "      <td>204</td>\n",
       "      <td>36.921569</td>\n",
       "    </tr>\n",
       "    <tr>\n",
       "      <th>6</th>\n",
       "      <td>HOLLYWOOD BLVD</td>\n",
       "      <td>191</td>\n",
       "      <td>62.848168</td>\n",
       "    </tr>\n",
       "    <tr>\n",
       "      <th>7</th>\n",
       "      <td>W 3RD ST</td>\n",
       "      <td>185</td>\n",
       "      <td>42.800000</td>\n",
       "    </tr>\n",
       "    <tr>\n",
       "      <th>8</th>\n",
       "      <td>W 6TH ST</td>\n",
       "      <td>178</td>\n",
       "      <td>43.179775</td>\n",
       "    </tr>\n",
       "    <tr>\n",
       "      <th>9</th>\n",
       "      <td>S FIGUEROA ST</td>\n",
       "      <td>165</td>\n",
       "      <td>52.357576</td>\n",
       "    </tr>\n",
       "  </tbody>\n",
       "</table>\n",
       "</div>"
      ],
      "text/plain": [
       "                 Rua  Contagem  Média de Assentos\n",
       "0      WILSHIRE BLVD       309          56.168285\n",
       "1      W SUNSET BLVD       271          53.915129\n",
       "2        W PICO BLVD       257          42.653696\n",
       "3      S WESTERN AVE       219          44.776256\n",
       "4     W OLYMPIC BLVD       205          54.053659\n",
       "5  SANTA MONICA BLVD       204          36.921569\n",
       "6     HOLLYWOOD BLVD       191          62.848168\n",
       "7           W 3RD ST       185          42.800000\n",
       "8           W 6TH ST       178          43.179775\n",
       "9      S FIGUEROA ST       165          52.357576"
      ]
     },
     "execution_count": 71,
     "metadata": {},
     "output_type": "execute_result"
    }
   ],
   "source": [
    "top10_streets"
   ]
  },
  {
   "cell_type": "code",
   "execution_count": 72,
   "metadata": {},
   "outputs": [],
   "source": [
    "street_comparison = pd.merge(top10_st, average_seats_per_street, on='Rua')"
   ]
  },
  {
   "cell_type": "code",
   "execution_count": 87,
   "metadata": {},
   "outputs": [
    {
     "data": {
      "image/png": "[encoded data removed]",
      "text/plain": [
       "<Figure size 1200x600 with 2 Axes>"
      ]
     },
     "metadata": {},
     "output_type": "display_data"
    }
   ],
   "source": [
    "# Configurando o gráfico\n",
    "fig, ax1 = plt.subplots(figsize=(12, 6))\n",
    "\n",
    "# Gráfico de barras para número de restaurantes\n",
    "sns.barplot(data=top10_streets, x='Rua', y='Contagem', color='aquamarine', ax=ax1)\n",
    "ax1.set_ylabel('Número de Restaurantes')\n",
    "ax1.set_xlabel('Rua')\n",
    "ax1.set_xticklabels(ax1.get_xticklabels(), rotation=45)\n",
    "\n",
    "# Adicionando um segundo eixo y para a média de assentos\n",
    "ax2 = ax1.twinx()\n",
    "sns.lineplot(data=top10_streets, x='Rua', y='Média de Assentos', color='blueviolet', marker='o', ax=ax2)\n",
    "ax2.set_ylabel('Média de Assentos')\n",
    "\n",
    "# Título e exibição\n",
    "plt.title('Comparação entre Número de Restaurantes e Média de Assentos nas Principais Ruas')\n",
    "plt.show()"
   ]
  },
  {
   "cell_type": "markdown",
   "metadata": {},
   "source": [
    "Quando olhamos para o ranking das ruas que mais possuem restaurantes, percebemos não necessariamente as ruas com mais restaurantes são as ruas que mais possuem assentos, sendo a média de assentos é de aproximandamente 55 para a rua com mais restaurantes e quase o mesmo valor para a rua com quase a metade da concentração de restaurantes. \n",
    "\n",
    "Portanto, é possível analisar que nem sempre o local irá definir a quantidade de assentos, mas possívelmente o tipo de estabelecimento, já que por regra, restaurantes costumam comportar mais clientes."
   ]
  },
  {
   "cell_type": "markdown",
   "metadata": {},
   "source": [
    "### Conclusão"
   ]
  },
  {
   "cell_type": "markdown",
   "metadata": {},
   "source": [
    "Para um café com serviço de garçons robôs e foco em sustentabilidade a longo prazo, é importante observar o cenário competitivo:\n",
    "\n",
    "- Franquias são predominantes em cafés e padarias, o que representa um desafio significativo para pequenas empresas que competem com esses grandes players, cujos preços geralmente são mais competitivos. Para uma nova empresa, igualar essas margens é difícil, aumentando o risco de entrar nesse mercado.\n",
    "\n",
    "- Já restaurantes, embora numerosos, têm uma presença de franquias menor, o que permite uma concorrência mais equilibrada entre os estabelecimentos. Isso cria uma oportunidade para uma empresa diferenciada.\n",
    "\n",
    "- A recomendação é iniciar o estabelecimento com cerca de 50 assentos em uma rua movimentada, de preferência com alto fluxo turístico. A inovação dos garçons robôs pode atrair atenção e fazer do café uma atração única na área."
   ]
  },
  {
   "cell_type": "markdown",
   "metadata": {},
   "source": [
    "## Apresentação"
   ]
  },
  {
   "cell_type": "markdown",
   "metadata": {},
   "source": [
    "O link da apresentação é esse:\n",
    "\n",
    "https://drive.google.com/file/d/1w2TRrXaeY1nHFw5UWlaTqNSpW-p6v2I2/view?usp=drive_link"
   ]
  }
 ],
 "metadata": {
  "ExecuteTimeLog": [
   {
    "duration": 154,
    "start_time": "2024-11-03T14:36:12.776Z"
   },
   {
    "duration": 2463,
    "start_time": "2024-11-03T14:37:46.531Z"
   },
   {
    "duration": 423,
    "start_time": "2024-11-03T14:37:51.829Z"
   },
   {
    "duration": 25,
    "start_time": "2024-11-03T14:38:03.562Z"
   },
   {
    "duration": 11,
    "start_time": "2024-11-03T14:38:13.762Z"
   },
   {
    "duration": 15,
    "start_time": "2024-11-03T14:38:22.148Z"
   },
   {
    "duration": 10,
    "start_time": "2024-11-03T14:38:24.092Z"
   },
   {
    "duration": 9,
    "start_time": "2024-11-03T14:39:41.930Z"
   },
   {
    "duration": 9,
    "start_time": "2024-11-03T14:39:53.031Z"
   },
   {
    "duration": 6,
    "start_time": "2024-11-03T14:41:31.764Z"
   },
   {
    "duration": 10,
    "start_time": "2024-11-03T14:41:36.945Z"
   },
   {
    "duration": 11,
    "start_time": "2024-11-03T14:43:40.574Z"
   },
   {
    "duration": 7,
    "start_time": "2024-11-03T14:46:49.624Z"
   },
   {
    "duration": 14,
    "start_time": "2024-11-03T14:48:52.356Z"
   },
   {
    "duration": 17,
    "start_time": "2024-11-03T14:49:07.204Z"
   },
   {
    "duration": 11,
    "start_time": "2024-11-03T14:49:15.579Z"
   },
   {
    "duration": 13,
    "start_time": "2024-11-03T14:49:28.472Z"
   },
   {
    "duration": 8,
    "start_time": "2024-11-03T14:49:31.892Z"
   },
   {
    "duration": 5,
    "start_time": "2024-11-03T14:49:56.064Z"
   },
   {
    "duration": 8,
    "start_time": "2024-11-03T14:49:58.330Z"
   },
   {
    "duration": 4,
    "start_time": "2024-11-03T14:50:16.704Z"
   },
   {
    "duration": 8,
    "start_time": "2024-11-03T14:50:18.278Z"
   },
   {
    "duration": 10,
    "start_time": "2024-11-03T14:50:40.405Z"
   },
   {
    "duration": 4,
    "start_time": "2024-11-03T14:52:04.891Z"
   },
   {
    "duration": 10,
    "start_time": "2024-11-03T14:52:10.779Z"
   },
   {
    "duration": 4,
    "start_time": "2024-11-03T14:55:20.077Z"
   },
   {
    "duration": 6,
    "start_time": "2024-11-03T14:55:38.560Z"
   },
   {
    "duration": 7,
    "start_time": "2024-11-03T14:55:49.361Z"
   },
   {
    "duration": 831,
    "start_time": "2024-11-03T14:56:41.991Z"
   },
   {
    "duration": 21,
    "start_time": "2024-11-03T14:56:42.824Z"
   },
   {
    "duration": 9,
    "start_time": "2024-11-03T14:56:42.846Z"
   },
   {
    "duration": 10,
    "start_time": "2024-11-03T14:56:42.857Z"
   },
   {
    "duration": 5,
    "start_time": "2024-11-03T14:56:42.870Z"
   },
   {
    "duration": 9,
    "start_time": "2024-11-03T14:56:42.876Z"
   },
   {
    "duration": 4,
    "start_time": "2024-11-03T14:56:42.886Z"
   },
   {
    "duration": 8,
    "start_time": "2024-11-03T14:56:42.891Z"
   },
   {
    "duration": 5,
    "start_time": "2024-11-03T15:45:03.133Z"
   },
   {
    "duration": 8,
    "start_time": "2024-11-03T15:45:33.598Z"
   },
   {
    "duration": 25,
    "start_time": "2024-11-03T15:50:35.443Z"
   },
   {
    "duration": 295,
    "start_time": "2024-11-03T15:51:23.698Z"
   },
   {
    "duration": 39,
    "start_time": "2024-11-03T15:51:34.862Z"
   },
   {
    "duration": 16,
    "start_time": "2024-11-03T15:52:24.044Z"
   },
   {
    "duration": 7,
    "start_time": "2024-11-03T15:52:40.011Z"
   },
   {
    "duration": 15,
    "start_time": "2024-11-03T15:53:37.543Z"
   },
   {
    "duration": 224,
    "start_time": "2024-11-03T15:53:52.012Z"
   },
   {
    "duration": 8,
    "start_time": "2024-11-03T15:54:14.783Z"
   },
   {
    "duration": 44,
    "start_time": "2024-11-03T15:54:21.651Z"
   },
   {
    "duration": 168,
    "start_time": "2024-11-03T16:00:12.233Z"
   },
   {
    "duration": 132,
    "start_time": "2024-11-03T16:00:50.440Z"
   },
   {
    "duration": 199,
    "start_time": "2024-11-03T16:01:17.355Z"
   },
   {
    "duration": 69,
    "start_time": "2024-11-03T16:01:27.065Z"
   },
   {
    "duration": 117,
    "start_time": "2024-11-03T16:02:08.846Z"
   },
   {
    "duration": 280,
    "start_time": "2024-11-03T16:02:35.579Z"
   },
   {
    "duration": 486,
    "start_time": "2024-11-03T16:02:47.695Z"
   },
   {
    "duration": 56,
    "start_time": "2024-11-03T16:03:44.694Z"
   },
   {
    "duration": 148,
    "start_time": "2024-11-03T16:04:01.127Z"
   },
   {
    "duration": 117,
    "start_time": "2024-11-03T16:04:24.203Z"
   },
   {
    "duration": 164,
    "start_time": "2024-11-03T16:05:38.455Z"
   },
   {
    "duration": 150,
    "start_time": "2024-11-03T16:05:45.730Z"
   },
   {
    "duration": 160,
    "start_time": "2024-11-03T16:05:50.360Z"
   },
   {
    "duration": 5,
    "start_time": "2024-11-03T16:06:23.099Z"
   },
   {
    "duration": 4,
    "start_time": "2024-11-03T16:06:28.151Z"
   },
   {
    "duration": 4,
    "start_time": "2024-11-03T16:07:05.410Z"
   },
   {
    "duration": 129,
    "start_time": "2024-11-03T16:07:10.617Z"
   },
   {
    "duration": 5,
    "start_time": "2024-11-03T16:07:25.357Z"
   },
   {
    "duration": 157,
    "start_time": "2024-11-03T16:07:44.531Z"
   },
   {
    "duration": 115,
    "start_time": "2024-11-03T16:10:53.362Z"
   },
   {
    "duration": 151,
    "start_time": "2024-11-03T16:11:17.604Z"
   },
   {
    "duration": 118,
    "start_time": "2024-11-03T16:11:23.498Z"
   },
   {
    "duration": 128,
    "start_time": "2024-11-03T16:12:00.100Z"
   },
   {
    "duration": 125,
    "start_time": "2024-11-03T16:12:15.468Z"
   },
   {
    "duration": 130,
    "start_time": "2024-11-03T16:13:25.000Z"
   },
   {
    "duration": 43,
    "start_time": "2024-11-03T16:13:43.435Z"
   },
   {
    "duration": 7,
    "start_time": "2024-11-03T16:13:48.505Z"
   },
   {
    "duration": 127,
    "start_time": "2024-11-03T16:13:50.035Z"
   },
   {
    "duration": 121,
    "start_time": "2024-11-03T16:19:08.011Z"
   },
   {
    "duration": 4,
    "start_time": "2024-11-03T16:21:36.103Z"
   },
   {
    "duration": 5,
    "start_time": "2024-11-03T16:22:31.785Z"
   },
   {
    "duration": 8,
    "start_time": "2024-11-03T16:23:02.204Z"
   },
   {
    "duration": 8,
    "start_time": "2024-11-03T16:23:41.739Z"
   },
   {
    "duration": 8,
    "start_time": "2024-11-03T16:24:52.106Z"
   },
   {
    "duration": 87,
    "start_time": "2024-11-03T16:25:12.809Z"
   },
   {
    "duration": 496,
    "start_time": "2024-11-03T16:26:24.787Z"
   },
   {
    "duration": 91,
    "start_time": "2024-11-03T16:26:45.395Z"
   },
   {
    "duration": 206,
    "start_time": "2024-11-03T16:27:39.405Z"
   },
   {
    "duration": 125,
    "start_time": "2024-11-03T16:27:48.458Z"
   },
   {
    "duration": 133,
    "start_time": "2024-11-03T16:28:10.985Z"
   },
   {
    "duration": 125,
    "start_time": "2024-11-03T16:28:24.104Z"
   },
   {
    "duration": 128,
    "start_time": "2024-11-03T16:28:40.007Z"
   },
   {
    "duration": 124,
    "start_time": "2024-11-03T16:28:48.375Z"
   },
   {
    "duration": 145,
    "start_time": "2024-11-03T16:28:52.445Z"
   },
   {
    "duration": 125,
    "start_time": "2024-11-03T16:28:58.302Z"
   },
   {
    "duration": 127,
    "start_time": "2024-11-03T16:29:12.631Z"
   },
   {
    "duration": 88,
    "start_time": "2024-11-03T16:29:20.247Z"
   },
   {
    "duration": 89,
    "start_time": "2024-11-03T16:29:24.843Z"
   },
   {
    "duration": 72,
    "start_time": "2024-11-03T16:29:30.513Z"
   },
   {
    "duration": 71,
    "start_time": "2024-11-03T16:29:34.401Z"
   },
   {
    "duration": 91,
    "start_time": "2024-11-03T16:29:37.025Z"
   },
   {
    "duration": 68,
    "start_time": "2024-11-03T16:29:42.067Z"
   },
   {
    "duration": 93,
    "start_time": "2024-11-03T16:29:48.451Z"
   },
   {
    "duration": 91,
    "start_time": "2024-11-03T16:30:01.029Z"
   },
   {
    "duration": 140,
    "start_time": "2024-11-03T16:32:58.792Z"
   },
   {
    "duration": 101,
    "start_time": "2024-11-03T16:34:08.373Z"
   },
   {
    "duration": 136,
    "start_time": "2024-11-03T16:34:15.301Z"
   },
   {
    "duration": 96,
    "start_time": "2024-11-03T16:34:29.386Z"
   },
   {
    "duration": 522,
    "start_time": "2024-11-03T16:37:43.353Z"
   },
   {
    "duration": 42,
    "start_time": "2024-11-03T16:38:55.636Z"
   },
   {
    "duration": 42,
    "start_time": "2024-11-03T16:38:59.123Z"
   },
   {
    "duration": 7,
    "start_time": "2024-11-03T16:40:06.553Z"
   },
   {
    "duration": 11,
    "start_time": "2024-11-03T16:40:14.688Z"
   },
   {
    "duration": 11,
    "start_time": "2024-11-03T16:41:09.364Z"
   },
   {
    "duration": 9,
    "start_time": "2024-11-03T16:42:52.966Z"
   },
   {
    "duration": 8,
    "start_time": "2024-11-03T16:43:02.715Z"
   },
   {
    "duration": 11,
    "start_time": "2024-11-03T16:43:33.970Z"
   },
   {
    "duration": 15,
    "start_time": "2024-11-03T16:44:45.738Z"
   },
   {
    "duration": 483,
    "start_time": "2024-11-03T16:44:51.871Z"
   },
   {
    "duration": 11,
    "start_time": "2024-11-03T16:45:44.008Z"
   },
   {
    "duration": 7,
    "start_time": "2024-11-03T16:45:51.422Z"
   },
   {
    "duration": 17,
    "start_time": "2024-11-03T16:48:32.963Z"
   },
   {
    "duration": 6,
    "start_time": "2024-11-03T16:48:41.147Z"
   },
   {
    "duration": 5,
    "start_time": "2024-11-03T16:48:47.390Z"
   },
   {
    "duration": 14,
    "start_time": "2024-11-03T16:48:51.660Z"
   },
   {
    "duration": 7,
    "start_time": "2024-11-03T16:49:15.475Z"
   },
   {
    "duration": 7,
    "start_time": "2024-11-03T16:49:21.260Z"
   },
   {
    "duration": 5,
    "start_time": "2024-11-03T16:50:19.783Z"
   },
   {
    "duration": 7,
    "start_time": "2024-11-03T16:50:49.138Z"
   },
   {
    "duration": 10,
    "start_time": "2024-11-03T16:50:59.901Z"
   },
   {
    "duration": 9,
    "start_time": "2024-11-03T16:51:14.866Z"
   },
   {
    "duration": 72,
    "start_time": "2024-11-03T16:51:23.204Z"
   },
   {
    "duration": 150,
    "start_time": "2024-11-03T16:51:27.611Z"
   },
   {
    "duration": 111,
    "start_time": "2024-11-03T16:51:41.882Z"
   },
   {
    "duration": 113,
    "start_time": "2024-11-03T16:51:51.799Z"
   },
   {
    "duration": 96,
    "start_time": "2024-11-03T17:00:32.899Z"
   },
   {
    "duration": 112,
    "start_time": "2024-11-03T17:00:43.550Z"
   },
   {
    "duration": 71,
    "start_time": "2024-11-03T17:00:50.313Z"
   },
   {
    "duration": 112,
    "start_time": "2024-11-03T17:00:54.046Z"
   },
   {
    "duration": 93,
    "start_time": "2024-11-03T17:01:15.318Z"
   },
   {
    "duration": 91,
    "start_time": "2024-11-03T17:01:21.309Z"
   },
   {
    "duration": 99,
    "start_time": "2024-11-03T17:02:53.064Z"
   },
   {
    "duration": 97,
    "start_time": "2024-11-03T17:03:07.995Z"
   },
   {
    "duration": 95,
    "start_time": "2024-11-03T17:03:17.838Z"
   },
   {
    "duration": 99,
    "start_time": "2024-11-03T17:03:45.501Z"
   },
   {
    "duration": 105,
    "start_time": "2024-11-03T17:03:58.106Z"
   },
   {
    "duration": 101,
    "start_time": "2024-11-03T17:04:03.072Z"
   },
   {
    "duration": 117,
    "start_time": "2024-11-03T17:04:22.720Z"
   },
   {
    "duration": 137,
    "start_time": "2024-11-03T17:04:28.337Z"
   },
   {
    "duration": 115,
    "start_time": "2024-11-03T17:04:31.697Z"
   },
   {
    "duration": 225,
    "start_time": "2024-11-03T17:06:21.076Z"
   },
   {
    "duration": 2,
    "start_time": "2024-11-03T17:06:53.840Z"
   },
   {
    "duration": 329,
    "start_time": "2024-11-03T17:06:59.531Z"
   },
   {
    "duration": 20,
    "start_time": "2024-11-03T17:20:53.483Z"
   },
   {
    "duration": 21,
    "start_time": "2024-11-03T17:21:12.442Z"
   },
   {
    "duration": 116,
    "start_time": "2024-11-03T17:22:31.984Z"
   },
   {
    "duration": 94,
    "start_time": "2024-11-03T17:22:36.528Z"
   },
   {
    "duration": 5,
    "start_time": "2024-11-03T17:23:04.880Z"
   },
   {
    "duration": 10,
    "start_time": "2024-11-03T17:23:10.080Z"
   },
   {
    "duration": 20,
    "start_time": "2024-11-03T17:24:11.366Z"
   },
   {
    "duration": 51,
    "start_time": "2024-11-03T17:24:22.467Z"
   },
   {
    "duration": 298,
    "start_time": "2024-11-03T17:24:46.105Z"
   },
   {
    "duration": 10,
    "start_time": "2024-11-03T17:27:30.235Z"
   },
   {
    "duration": 11,
    "start_time": "2024-11-03T17:27:58.105Z"
   },
   {
    "duration": 278,
    "start_time": "2024-11-03T17:28:09.640Z"
   },
   {
    "duration": 11,
    "start_time": "2024-11-03T17:29:47.073Z"
   },
   {
    "duration": 11,
    "start_time": "2024-11-03T17:30:52.514Z"
   },
   {
    "duration": 121,
    "start_time": "2024-11-03T17:31:06.038Z"
   },
   {
    "duration": 33,
    "start_time": "2024-11-03T17:31:13.034Z"
   },
   {
    "duration": 5,
    "start_time": "2024-11-03T17:31:21.658Z"
   },
   {
    "duration": 8,
    "start_time": "2024-11-03T17:31:24.574Z"
   },
   {
    "duration": 4,
    "start_time": "2024-11-03T17:31:30.542Z"
   },
   {
    "duration": 7,
    "start_time": "2024-11-03T17:31:31.834Z"
   },
   {
    "duration": 795,
    "start_time": "2024-11-03T17:31:47.426Z"
   },
   {
    "duration": 21,
    "start_time": "2024-11-03T17:31:48.224Z"
   },
   {
    "duration": 10,
    "start_time": "2024-11-03T17:31:48.246Z"
   },
   {
    "duration": 10,
    "start_time": "2024-11-03T17:31:48.258Z"
   },
   {
    "duration": 6,
    "start_time": "2024-11-03T17:31:48.270Z"
   },
   {
    "duration": 8,
    "start_time": "2024-11-03T17:31:48.278Z"
   },
   {
    "duration": 4,
    "start_time": "2024-11-03T17:31:48.288Z"
   },
   {
    "duration": 8,
    "start_time": "2024-11-03T17:31:48.293Z"
   },
   {
    "duration": 7,
    "start_time": "2024-11-03T17:31:48.302Z"
   },
   {
    "duration": 155,
    "start_time": "2024-11-03T17:31:48.343Z"
   },
   {
    "duration": 8,
    "start_time": "2024-11-03T17:31:48.500Z"
   },
   {
    "duration": 119,
    "start_time": "2024-11-03T17:31:48.510Z"
   },
   {
    "duration": 19,
    "start_time": "2024-11-03T17:31:48.630Z"
   },
   {
    "duration": 173,
    "start_time": "2024-11-03T17:31:48.653Z"
   },
   {
    "duration": 4,
    "start_time": "2024-11-03T17:31:48.828Z"
   },
   {
    "duration": 13,
    "start_time": "2024-11-03T17:31:48.843Z"
   },
   {
    "duration": 9,
    "start_time": "2024-11-03T17:32:06.900Z"
   },
   {
    "duration": 225,
    "start_time": "2024-11-03T17:33:02.946Z"
   },
   {
    "duration": 12,
    "start_time": "2024-11-03T17:33:09.101Z"
   },
   {
    "duration": 85,
    "start_time": "2024-11-03T17:33:47.353Z"
   },
   {
    "duration": 8,
    "start_time": "2024-11-03T17:33:50.058Z"
   },
   {
    "duration": 7,
    "start_time": "2024-11-03T17:37:00.419Z"
   },
   {
    "duration": 6,
    "start_time": "2024-11-03T17:38:09.146Z"
   },
   {
    "duration": 4,
    "start_time": "2024-11-03T17:38:20.095Z"
   },
   {
    "duration": 8,
    "start_time": "2024-11-03T17:38:52.706Z"
   },
   {
    "duration": 144,
    "start_time": "2024-11-03T17:39:30.598Z"
   },
   {
    "duration": 361,
    "start_time": "2024-11-03T17:39:41.046Z"
   },
   {
    "duration": 130,
    "start_time": "2024-11-03T17:39:54.572Z"
   },
   {
    "duration": 7,
    "start_time": "2024-11-03T17:42:35.454Z"
   },
   {
    "duration": 133,
    "start_time": "2024-11-03T17:45:40.462Z"
   },
   {
    "duration": 123,
    "start_time": "2024-11-03T17:45:47.550Z"
   },
   {
    "duration": 18,
    "start_time": "2024-11-03T17:51:20.774Z"
   },
   {
    "duration": 10,
    "start_time": "2024-11-03T17:51:25.375Z"
   },
   {
    "duration": 20,
    "start_time": "2024-11-03T17:52:07.080Z"
   },
   {
    "duration": 192,
    "start_time": "2024-11-03T17:52:29.178Z"
   },
   {
    "duration": 171,
    "start_time": "2024-11-03T17:53:12.674Z"
   },
   {
    "duration": 123,
    "start_time": "2024-11-03T17:53:47.434Z"
   },
   {
    "duration": 175,
    "start_time": "2024-11-03T17:54:05.631Z"
   },
   {
    "duration": 178,
    "start_time": "2024-11-03T17:54:12.150Z"
   },
   {
    "duration": 11,
    "start_time": "2024-11-03T17:56:11.946Z"
   },
   {
    "duration": 16,
    "start_time": "2024-11-03T18:02:40.148Z"
   },
   {
    "duration": 21,
    "start_time": "2024-11-03T18:03:14.137Z"
   },
   {
    "duration": 2,
    "start_time": "2024-11-03T18:03:39.971Z"
   },
   {
    "duration": 5,
    "start_time": "2024-11-03T18:05:01.349Z"
   },
   {
    "duration": 4,
    "start_time": "2024-11-03T18:05:12.339Z"
   },
   {
    "duration": 4,
    "start_time": "2024-11-03T18:05:17.283Z"
   },
   {
    "duration": 4,
    "start_time": "2024-11-03T18:05:21.584Z"
   },
   {
    "duration": 15,
    "start_time": "2024-11-03T18:52:54.105Z"
   },
   {
    "duration": 25,
    "start_time": "2024-11-03T18:53:08.291Z"
   },
   {
    "duration": 416,
    "start_time": "2024-11-03T18:55:15.502Z"
   },
   {
    "duration": 11,
    "start_time": "2024-11-03T18:55:27.251Z"
   },
   {
    "duration": 5,
    "start_time": "2024-11-03T18:55:32.746Z"
   },
   {
    "duration": 6,
    "start_time": "2024-11-03T18:57:40.875Z"
   },
   {
    "duration": 5,
    "start_time": "2024-11-03T18:58:37.427Z"
   },
   {
    "duration": 6,
    "start_time": "2024-11-03T18:58:50.679Z"
   },
   {
    "duration": 773,
    "start_time": "2024-11-03T18:59:38.404Z"
   },
   {
    "duration": 17,
    "start_time": "2024-11-03T18:59:39.179Z"
   },
   {
    "duration": 9,
    "start_time": "2024-11-03T18:59:39.197Z"
   },
   {
    "duration": 10,
    "start_time": "2024-11-03T18:59:39.208Z"
   },
   {
    "duration": 23,
    "start_time": "2024-11-03T18:59:39.220Z"
   },
   {
    "duration": 8,
    "start_time": "2024-11-03T18:59:39.244Z"
   },
   {
    "duration": 4,
    "start_time": "2024-11-03T18:59:39.254Z"
   },
   {
    "duration": 9,
    "start_time": "2024-11-03T18:59:39.260Z"
   },
   {
    "duration": 7,
    "start_time": "2024-11-03T18:59:39.270Z"
   },
   {
    "duration": 176,
    "start_time": "2024-11-03T18:59:39.279Z"
   },
   {
    "duration": 8,
    "start_time": "2024-11-03T18:59:39.456Z"
   },
   {
    "duration": 124,
    "start_time": "2024-11-03T18:59:39.466Z"
   },
   {
    "duration": 9,
    "start_time": "2024-11-03T18:59:39.592Z"
   },
   {
    "duration": 178,
    "start_time": "2024-11-03T18:59:39.604Z"
   },
   {
    "duration": 7,
    "start_time": "2024-11-03T18:59:39.784Z"
   },
   {
    "duration": 143,
    "start_time": "2024-11-03T18:59:39.792Z"
   },
   {
    "duration": 12,
    "start_time": "2024-11-03T18:59:39.936Z"
   },
   {
    "duration": 180,
    "start_time": "2024-11-03T18:59:39.950Z"
   },
   {
    "duration": 17,
    "start_time": "2024-11-03T18:59:40.132Z"
   },
   {
    "duration": 17,
    "start_time": "2024-11-03T18:59:40.150Z"
   },
   {
    "duration": 18,
    "start_time": "2024-11-03T18:59:53.966Z"
   },
   {
    "duration": 23,
    "start_time": "2024-11-03T19:00:01.061Z"
   },
   {
    "duration": 21,
    "start_time": "2024-11-03T19:04:23.339Z"
   },
   {
    "duration": 7,
    "start_time": "2024-11-03T19:05:33.472Z"
   },
   {
    "duration": 11,
    "start_time": "2024-11-03T19:05:37.362Z"
   },
   {
    "duration": 802,
    "start_time": "2024-11-03T19:09:51.616Z"
   },
   {
    "duration": 16,
    "start_time": "2024-11-03T19:09:52.420Z"
   },
   {
    "duration": 13,
    "start_time": "2024-11-03T19:09:52.438Z"
   },
   {
    "duration": 10,
    "start_time": "2024-11-03T19:09:52.454Z"
   },
   {
    "duration": 6,
    "start_time": "2024-11-03T19:09:52.465Z"
   },
   {
    "duration": 9,
    "start_time": "2024-11-03T19:09:52.473Z"
   },
   {
    "duration": 3,
    "start_time": "2024-11-03T19:09:52.484Z"
   },
   {
    "duration": 8,
    "start_time": "2024-11-03T19:09:52.489Z"
   },
   {
    "duration": 45,
    "start_time": "2024-11-03T19:09:52.499Z"
   },
   {
    "duration": 158,
    "start_time": "2024-11-03T19:09:52.546Z"
   },
   {
    "duration": 8,
    "start_time": "2024-11-03T19:09:52.706Z"
   },
   {
    "duration": 114,
    "start_time": "2024-11-03T19:09:52.716Z"
   },
   {
    "duration": 16,
    "start_time": "2024-11-03T19:09:52.831Z"
   },
   {
    "duration": 175,
    "start_time": "2024-11-03T19:09:52.848Z"
   },
   {
    "duration": 7,
    "start_time": "2024-11-03T19:09:53.025Z"
   },
   {
    "duration": 139,
    "start_time": "2024-11-03T19:09:53.033Z"
   },
   {
    "duration": 9,
    "start_time": "2024-11-03T19:09:53.174Z"
   },
   {
    "duration": 184,
    "start_time": "2024-11-03T19:09:53.185Z"
   },
   {
    "duration": 10,
    "start_time": "2024-11-03T19:09:53.371Z"
   },
   {
    "duration": 2,
    "start_time": "2024-11-03T19:10:13.766Z"
   },
   {
    "duration": 4,
    "start_time": "2024-11-03T19:10:17.033Z"
   },
   {
    "duration": 3,
    "start_time": "2024-11-03T19:10:30.103Z"
   },
   {
    "duration": 3,
    "start_time": "2024-11-03T19:10:42.248Z"
   },
   {
    "duration": 18,
    "start_time": "2024-11-03T19:10:59.479Z"
   },
   {
    "duration": 6,
    "start_time": "2024-11-03T19:11:09.630Z"
   },
   {
    "duration": 5,
    "start_time": "2024-11-03T19:11:21.131Z"
   },
   {
    "duration": 5,
    "start_time": "2024-11-03T19:11:33.867Z"
   },
   {
    "duration": 12,
    "start_time": "2024-11-03T19:17:45.987Z"
   },
   {
    "duration": 6,
    "start_time": "2024-11-03T19:17:53.810Z"
   },
   {
    "duration": 7,
    "start_time": "2024-11-03T19:18:00.468Z"
   },
   {
    "duration": 7,
    "start_time": "2024-11-03T19:18:10.532Z"
   },
   {
    "duration": 7,
    "start_time": "2024-11-03T19:18:15.106Z"
   },
   {
    "duration": 3,
    "start_time": "2024-11-03T19:19:12.240Z"
   },
   {
    "duration": 4,
    "start_time": "2024-11-03T19:19:17.466Z"
   },
   {
    "duration": 6,
    "start_time": "2024-11-03T19:22:07.913Z"
   },
   {
    "duration": 8,
    "start_time": "2024-11-03T19:22:17.012Z"
   },
   {
    "duration": 9,
    "start_time": "2024-11-03T19:22:41.010Z"
   },
   {
    "duration": 129,
    "start_time": "2024-11-03T19:24:36.888Z"
   },
   {
    "duration": 221,
    "start_time": "2024-11-03T19:24:50.317Z"
   },
   {
    "duration": 169,
    "start_time": "2024-11-03T19:25:06.246Z"
   },
   {
    "duration": 733,
    "start_time": "2024-11-03T19:25:19.380Z"
   },
   {
    "duration": 176,
    "start_time": "2024-11-03T19:26:42.126Z"
   },
   {
    "duration": 164,
    "start_time": "2024-11-03T19:26:45.266Z"
   },
   {
    "duration": 103,
    "start_time": "2024-11-03T19:27:27.590Z"
   },
   {
    "duration": 607,
    "start_time": "2024-11-03T19:27:36.142Z"
   },
   {
    "duration": 225,
    "start_time": "2024-11-03T19:27:41.584Z"
   },
   {
    "duration": 215,
    "start_time": "2024-11-03T19:27:51.330Z"
   },
   {
    "duration": 223,
    "start_time": "2024-11-03T19:28:53.331Z"
   },
   {
    "duration": 4,
    "start_time": "2024-11-03T19:36:36.273Z"
   },
   {
    "duration": 14,
    "start_time": "2024-11-03T19:36:42.362Z"
   },
   {
    "duration": 13,
    "start_time": "2024-11-03T19:36:44.413Z"
   },
   {
    "duration": 13,
    "start_time": "2024-11-03T19:37:04.769Z"
   },
   {
    "duration": 13,
    "start_time": "2024-11-03T19:37:18.525Z"
   },
   {
    "duration": 797,
    "start_time": "2024-11-03T19:37:38.321Z"
   },
   {
    "duration": 17,
    "start_time": "2024-11-03T19:37:39.120Z"
   },
   {
    "duration": 10,
    "start_time": "2024-11-03T19:37:39.142Z"
   },
   {
    "duration": 8,
    "start_time": "2024-11-03T19:37:39.154Z"
   },
   {
    "duration": 5,
    "start_time": "2024-11-03T19:37:39.165Z"
   },
   {
    "duration": 8,
    "start_time": "2024-11-03T19:37:39.172Z"
   },
   {
    "duration": 4,
    "start_time": "2024-11-03T19:37:39.182Z"
   },
   {
    "duration": 8,
    "start_time": "2024-11-03T19:37:39.187Z"
   },
   {
    "duration": 45,
    "start_time": "2024-11-03T19:37:39.197Z"
   },
   {
    "duration": 157,
    "start_time": "2024-11-03T19:37:39.243Z"
   },
   {
    "duration": 8,
    "start_time": "2024-11-03T19:37:39.402Z"
   },
   {
    "duration": 116,
    "start_time": "2024-11-03T19:37:39.411Z"
   },
   {
    "duration": 18,
    "start_time": "2024-11-03T19:37:39.528Z"
   },
   {
    "duration": 167,
    "start_time": "2024-11-03T19:37:39.550Z"
   },
   {
    "duration": 8,
    "start_time": "2024-11-03T19:37:39.718Z"
   },
   {
    "duration": 144,
    "start_time": "2024-11-03T19:37:39.727Z"
   },
   {
    "duration": 11,
    "start_time": "2024-11-03T19:37:39.872Z"
   },
   {
    "duration": 186,
    "start_time": "2024-11-03T19:37:39.885Z"
   },
   {
    "duration": 10,
    "start_time": "2024-11-03T19:37:40.073Z"
   },
   {
    "duration": 3,
    "start_time": "2024-11-03T19:37:40.084Z"
   },
   {
    "duration": 11,
    "start_time": "2024-11-03T19:37:40.089Z"
   },
   {
    "duration": 7,
    "start_time": "2024-11-03T19:37:40.102Z"
   },
   {
    "duration": 42,
    "start_time": "2024-11-03T19:37:40.110Z"
   },
   {
    "duration": 8,
    "start_time": "2024-11-03T19:37:40.154Z"
   },
   {
    "duration": 245,
    "start_time": "2024-11-03T19:37:40.164Z"
   },
   {
    "duration": 9,
    "start_time": "2024-11-03T19:38:10.108Z"
   },
   {
    "duration": 218,
    "start_time": "2024-11-03T19:38:11.709Z"
   },
   {
    "duration": 215,
    "start_time": "2024-11-03T19:38:38.029Z"
   },
   {
    "duration": 12,
    "start_time": "2024-11-03T19:41:51.075Z"
   },
   {
    "duration": 9,
    "start_time": "2024-11-03T19:41:53.198Z"
   },
   {
    "duration": 224,
    "start_time": "2024-11-03T19:41:55.107Z"
   },
   {
    "duration": 14,
    "start_time": "2024-11-03T19:42:13.941Z"
   },
   {
    "duration": 9,
    "start_time": "2024-11-03T19:42:15.434Z"
   },
   {
    "duration": 217,
    "start_time": "2024-11-03T19:42:16.803Z"
   },
   {
    "duration": 279,
    "start_time": "2024-11-03T19:45:13.992Z"
   },
   {
    "duration": 16,
    "start_time": "2024-11-03T19:45:29.277Z"
   },
   {
    "duration": 4,
    "start_time": "2024-11-03T19:45:35.348Z"
   },
   {
    "duration": 10,
    "start_time": "2024-11-03T19:45:51.020Z"
   },
   {
    "duration": 10,
    "start_time": "2024-11-03T19:45:57.220Z"
   },
   {
    "duration": 6,
    "start_time": "2024-11-03T19:46:15.645Z"
   },
   {
    "duration": 5,
    "start_time": "2024-11-03T19:46:49.277Z"
   },
   {
    "duration": 5,
    "start_time": "2024-11-03T19:47:23.227Z"
   },
   {
    "duration": 14,
    "start_time": "2024-11-03T19:47:41.094Z"
   },
   {
    "duration": 6,
    "start_time": "2024-11-03T19:48:36.955Z"
   },
   {
    "duration": 4,
    "start_time": "2024-11-03T19:48:47.250Z"
   },
   {
    "duration": 4,
    "start_time": "2024-11-03T19:50:23.593Z"
   },
   {
    "duration": 4,
    "start_time": "2024-11-03T19:50:29.383Z"
   },
   {
    "duration": 4,
    "start_time": "2024-11-03T19:51:22.617Z"
   },
   {
    "duration": 5,
    "start_time": "2024-11-03T19:52:17.356Z"
   },
   {
    "duration": 4,
    "start_time": "2024-11-03T19:52:24.141Z"
   },
   {
    "duration": 6,
    "start_time": "2024-11-03T19:52:32.888Z"
   },
   {
    "duration": 2,
    "start_time": "2024-11-03T19:55:38.809Z"
   },
   {
    "duration": 9,
    "start_time": "2024-11-03T19:55:58.973Z"
   },
   {
    "duration": 12,
    "start_time": "2024-11-03T19:56:18.797Z"
   },
   {
    "duration": 8,
    "start_time": "2024-11-03T20:01:22.582Z"
   },
   {
    "duration": 13,
    "start_time": "2024-11-03T20:01:28.155Z"
   },
   {
    "duration": 7,
    "start_time": "2024-11-03T20:01:52.205Z"
   },
   {
    "duration": 13,
    "start_time": "2024-11-03T20:01:57.342Z"
   },
   {
    "duration": 13,
    "start_time": "2024-11-03T20:02:09.920Z"
   },
   {
    "duration": 13,
    "start_time": "2024-11-03T20:02:13.296Z"
   },
   {
    "duration": 359,
    "start_time": "2024-11-03T20:04:02.031Z"
   },
   {
    "duration": 25,
    "start_time": "2024-11-03T20:04:57.621Z"
   },
   {
    "duration": 24,
    "start_time": "2024-11-03T20:05:05.545Z"
   },
   {
    "duration": 286,
    "start_time": "2024-11-03T20:05:08.099Z"
   },
   {
    "duration": 7,
    "start_time": "2024-11-03T20:06:31.432Z"
   },
   {
    "duration": 8,
    "start_time": "2024-11-03T20:07:03.452Z"
   },
   {
    "duration": 12,
    "start_time": "2024-11-03T20:09:16.961Z"
   },
   {
    "duration": 6,
    "start_time": "2024-11-03T20:10:24.254Z"
   },
   {
    "duration": 10,
    "start_time": "2024-11-03T20:10:28.970Z"
   },
   {
    "duration": 8,
    "start_time": "2024-11-03T20:10:34.710Z"
   },
   {
    "duration": 7,
    "start_time": "2024-11-03T20:10:37.863Z"
   },
   {
    "duration": 11,
    "start_time": "2024-11-03T20:10:43.494Z"
   },
   {
    "duration": 7,
    "start_time": "2024-11-03T20:11:47.182Z"
   },
   {
    "duration": 5,
    "start_time": "2024-11-03T20:11:51.184Z"
   },
   {
    "duration": 8,
    "start_time": "2024-11-03T20:11:55.169Z"
   },
   {
    "duration": 11,
    "start_time": "2024-11-03T20:11:57.480Z"
   },
   {
    "duration": 6,
    "start_time": "2024-11-03T20:12:27.673Z"
   },
   {
    "duration": 8,
    "start_time": "2024-11-03T20:13:03.294Z"
   },
   {
    "duration": 13,
    "start_time": "2024-11-03T20:13:14.931Z"
   },
   {
    "duration": 16,
    "start_time": "2024-11-03T20:13:35.016Z"
   },
   {
    "duration": 17,
    "start_time": "2024-11-03T20:13:53.401Z"
   },
   {
    "duration": 13,
    "start_time": "2024-11-03T20:13:58.126Z"
   },
   {
    "duration": 9,
    "start_time": "2024-11-03T20:14:01.377Z"
   },
   {
    "duration": 6,
    "start_time": "2024-11-03T20:14:16.821Z"
   },
   {
    "duration": 6,
    "start_time": "2024-11-03T20:15:14.133Z"
   },
   {
    "duration": 6,
    "start_time": "2024-11-03T20:15:29.105Z"
   },
   {
    "duration": 7,
    "start_time": "2024-11-03T20:15:37.261Z"
   },
   {
    "duration": 8,
    "start_time": "2024-11-03T20:16:03.684Z"
   },
   {
    "duration": 7,
    "start_time": "2024-11-03T20:16:57.236Z"
   },
   {
    "duration": 11,
    "start_time": "2024-11-03T20:16:59.983Z"
   },
   {
    "duration": 7,
    "start_time": "2024-11-03T20:17:02.810Z"
   },
   {
    "duration": 9,
    "start_time": "2024-11-03T20:17:11.141Z"
   },
   {
    "duration": 12,
    "start_time": "2024-11-03T20:17:13.877Z"
   },
   {
    "duration": 93,
    "start_time": "2024-11-03T20:18:59.125Z"
   },
   {
    "duration": 2106,
    "start_time": "2024-11-03T20:19:44.429Z"
   },
   {
    "duration": 406,
    "start_time": "2024-11-03T20:19:59.171Z"
   },
   {
    "duration": 7,
    "start_time": "2024-11-03T20:20:19.552Z"
   },
   {
    "duration": 5,
    "start_time": "2024-11-03T20:20:22.352Z"
   },
   {
    "duration": 6,
    "start_time": "2024-11-03T20:21:09.954Z"
   },
   {
    "duration": 9,
    "start_time": "2024-11-03T20:21:15.492Z"
   },
   {
    "duration": 9,
    "start_time": "2024-11-03T20:21:55.567Z"
   },
   {
    "duration": 15,
    "start_time": "2024-11-03T20:24:12.970Z"
   },
   {
    "duration": 15,
    "start_time": "2024-11-03T20:24:21.562Z"
   },
   {
    "duration": 14,
    "start_time": "2024-11-03T20:24:46.016Z"
   },
   {
    "duration": 41,
    "start_time": "2024-11-03T20:24:53.574Z"
   },
   {
    "duration": 43,
    "start_time": "2024-11-03T20:24:58.850Z"
   },
   {
    "duration": 34,
    "start_time": "2024-11-03T20:25:28.785Z"
   },
   {
    "duration": 12,
    "start_time": "2024-11-03T20:25:34.537Z"
   },
   {
    "duration": 12,
    "start_time": "2024-11-03T20:26:39.918Z"
   },
   {
    "duration": 15,
    "start_time": "2024-11-03T20:26:47.616Z"
   },
   {
    "duration": 3,
    "start_time": "2024-11-03T20:28:10.660Z"
   },
   {
    "duration": 13,
    "start_time": "2024-11-03T20:28:15.150Z"
   },
   {
    "duration": 125,
    "start_time": "2024-11-03T20:35:55.206Z"
   },
   {
    "duration": 197,
    "start_time": "2024-11-03T20:36:12.891Z"
   },
   {
    "duration": 25,
    "start_time": "2024-11-03T20:36:37.871Z"
   },
   {
    "duration": 15,
    "start_time": "2024-11-03T20:36:42.790Z"
   },
   {
    "duration": 13,
    "start_time": "2024-11-03T20:36:53.344Z"
   },
   {
    "duration": 179,
    "start_time": "2024-11-03T20:36:58.337Z"
   },
   {
    "duration": 197,
    "start_time": "2024-11-03T20:37:12.197Z"
   },
   {
    "duration": 175,
    "start_time": "2024-11-03T20:37:16.915Z"
   },
   {
    "duration": 175,
    "start_time": "2024-11-03T20:37:24.213Z"
   },
   {
    "duration": 14,
    "start_time": "2024-11-03T20:38:19.659Z"
   },
   {
    "duration": 13,
    "start_time": "2024-11-03T20:38:24.413Z"
   },
   {
    "duration": 14,
    "start_time": "2024-11-03T20:38:37.553Z"
   },
   {
    "duration": 15,
    "start_time": "2024-11-03T20:38:39.385Z"
   },
   {
    "duration": 172,
    "start_time": "2024-11-03T20:38:41.994Z"
   },
   {
    "duration": 2032,
    "start_time": "2024-11-03T20:39:06.351Z"
   },
   {
    "duration": 12,
    "start_time": "2024-11-03T20:39:35.863Z"
   },
   {
    "duration": 190,
    "start_time": "2024-11-03T20:39:38.043Z"
   },
   {
    "duration": 12,
    "start_time": "2024-11-03T20:39:48.199Z"
   },
   {
    "duration": 6,
    "start_time": "2024-11-03T20:40:12.203Z"
   },
   {
    "duration": 12,
    "start_time": "2024-11-03T20:40:13.927Z"
   },
   {
    "duration": 7,
    "start_time": "2024-11-03T20:40:20.448Z"
   },
   {
    "duration": 7,
    "start_time": "2024-11-03T20:40:42.870Z"
   },
   {
    "duration": 10,
    "start_time": "2024-11-03T20:40:44.461Z"
   },
   {
    "duration": 7,
    "start_time": "2024-11-03T20:40:47.063Z"
   },
   {
    "duration": 12,
    "start_time": "2024-11-03T20:41:05.914Z"
   },
   {
    "duration": 161,
    "start_time": "2024-11-03T20:41:08.086Z"
   },
   {
    "duration": 5,
    "start_time": "2024-11-03T20:43:43.906Z"
   },
   {
    "duration": 640,
    "start_time": "2024-11-03T20:43:50.855Z"
   },
   {
    "duration": 78,
    "start_time": "2024-11-03T20:43:58.849Z"
   },
   {
    "duration": 7,
    "start_time": "2024-11-03T20:44:05.059Z"
   },
   {
    "duration": 6,
    "start_time": "2024-11-03T20:44:09.725Z"
   },
   {
    "duration": 5,
    "start_time": "2024-11-03T20:44:12.119Z"
   },
   {
    "duration": 103,
    "start_time": "2024-11-03T20:44:41.850Z"
   },
   {
    "duration": 2681,
    "start_time": "2024-11-05T01:04:04.172Z"
   },
   {
    "duration": 26,
    "start_time": "2024-11-05T01:04:06.855Z"
   },
   {
    "duration": 11,
    "start_time": "2024-11-05T01:04:06.883Z"
   },
   {
    "duration": 19,
    "start_time": "2024-11-05T01:04:06.896Z"
   },
   {
    "duration": 5,
    "start_time": "2024-11-05T01:04:06.919Z"
   },
   {
    "duration": 9,
    "start_time": "2024-11-05T01:04:06.926Z"
   },
   {
    "duration": 4,
    "start_time": "2024-11-05T01:04:06.936Z"
   },
   {
    "duration": 9,
    "start_time": "2024-11-05T01:04:06.941Z"
   },
   {
    "duration": 8,
    "start_time": "2024-11-05T01:04:06.951Z"
   },
   {
    "duration": 198,
    "start_time": "2024-11-05T01:04:06.961Z"
   },
   {
    "duration": 8,
    "start_time": "2024-11-05T01:04:07.161Z"
   },
   {
    "duration": 127,
    "start_time": "2024-11-05T01:04:07.171Z"
   },
   {
    "duration": 16,
    "start_time": "2024-11-05T01:04:07.301Z"
   },
   {
    "duration": 144,
    "start_time": "2024-11-05T01:04:07.321Z"
   },
   {
    "duration": 8,
    "start_time": "2024-11-05T01:04:07.467Z"
   },
   {
    "duration": 141,
    "start_time": "2024-11-05T01:04:07.476Z"
   },
   {
    "duration": 10,
    "start_time": "2024-11-05T01:04:07.619Z"
   },
   {
    "duration": 190,
    "start_time": "2024-11-05T01:04:07.631Z"
   },
   {
    "duration": 11,
    "start_time": "2024-11-05T01:04:07.823Z"
   },
   {
    "duration": 2,
    "start_time": "2024-11-05T01:04:07.836Z"
   },
   {
    "duration": 12,
    "start_time": "2024-11-05T01:04:07.840Z"
   },
   {
    "duration": 7,
    "start_time": "2024-11-05T01:04:07.853Z"
   },
   {
    "duration": 12,
    "start_time": "2024-11-05T01:04:07.862Z"
   },
   {
    "duration": 37,
    "start_time": "2024-11-05T01:04:07.876Z"
   },
   {
    "duration": 249,
    "start_time": "2024-11-05T01:04:07.916Z"
   },
   {
    "duration": 7,
    "start_time": "2024-11-05T01:04:08.166Z"
   },
   {
    "duration": 6,
    "start_time": "2024-11-05T01:04:08.174Z"
   },
   {
    "duration": 6,
    "start_time": "2024-11-05T01:04:08.183Z"
   },
   {
    "duration": 22,
    "start_time": "2024-11-05T01:04:08.193Z"
   },
   {
    "duration": 7,
    "start_time": "2024-11-05T01:04:08.217Z"
   },
   {
    "duration": 87,
    "start_time": "2024-11-05T01:04:08.226Z"
   },
   {
    "duration": 13,
    "start_time": "2024-11-05T01:04:12.480Z"
   },
   {
    "duration": 171,
    "start_time": "2024-11-05T01:04:14.664Z"
   },
   {
    "duration": 12,
    "start_time": "2024-11-05T01:04:22.567Z"
   },
   {
    "duration": 13,
    "start_time": "2024-11-05T01:04:52.220Z"
   },
   {
    "duration": 505,
    "start_time": "2024-11-05T01:07:44.749Z"
   },
   {
    "duration": 195,
    "start_time": "2024-11-05T01:08:49.544Z"
   },
   {
    "duration": 500,
    "start_time": "2024-11-05T01:09:28.380Z"
   },
   {
    "duration": 340,
    "start_time": "2024-11-05T01:10:00.075Z"
   },
   {
    "duration": 6,
    "start_time": "2024-11-05T01:12:05.841Z"
   },
   {
    "duration": 5,
    "start_time": "2024-11-05T01:12:09.532Z"
   },
   {
    "duration": 7,
    "start_time": "2024-11-05T01:12:16.008Z"
   },
   {
    "duration": 5,
    "start_time": "2024-11-05T01:12:33.149Z"
   },
   {
    "duration": 9,
    "start_time": "2024-11-05T01:12:37.182Z"
   },
   {
    "duration": 4,
    "start_time": "2024-11-05T01:13:02.260Z"
   },
   {
    "duration": 305,
    "start_time": "2024-11-05T01:14:46.509Z"
   },
   {
    "duration": 328,
    "start_time": "2024-11-05T01:14:59.826Z"
   },
   {
    "duration": 2981,
    "start_time": "2024-11-05T01:16:18.769Z"
   },
   {
    "duration": 190,
    "start_time": "2024-11-05T01:16:34.521Z"
   },
   {
    "duration": 15,
    "start_time": "2024-11-05T01:17:13.733Z"
   },
   {
    "duration": 12,
    "start_time": "2024-11-05T01:17:55.113Z"
   },
   {
    "duration": 17,
    "start_time": "2024-11-05T01:17:58.069Z"
   },
   {
    "duration": 21,
    "start_time": "2024-11-05T01:18:21.429Z"
   },
   {
    "duration": 260,
    "start_time": "2024-11-05T01:18:24.171Z"
   },
   {
    "duration": 185,
    "start_time": "2024-11-05T01:18:45.465Z"
   },
   {
    "duration": 7,
    "start_time": "2024-11-05T01:20:04.722Z"
   },
   {
    "duration": 5,
    "start_time": "2024-11-05T01:21:11.851Z"
   },
   {
    "duration": 5,
    "start_time": "2024-11-05T01:21:14.001Z"
   },
   {
    "duration": 10,
    "start_time": "2024-11-05T01:21:20.121Z"
   },
   {
    "duration": 11,
    "start_time": "2024-11-05T01:21:40.937Z"
   },
   {
    "duration": 6,
    "start_time": "2024-11-05T01:22:09.498Z"
   },
   {
    "duration": 9,
    "start_time": "2024-11-05T01:22:11.596Z"
   },
   {
    "duration": 171,
    "start_time": "2024-11-05T01:23:56.544Z"
   },
   {
    "duration": 6,
    "start_time": "2024-11-05T01:24:17.905Z"
   },
   {
    "duration": 8,
    "start_time": "2024-11-05T01:24:19.975Z"
   },
   {
    "duration": 7,
    "start_time": "2024-11-05T01:24:22.892Z"
   },
   {
    "duration": 9,
    "start_time": "2024-11-05T01:24:34.047Z"
   },
   {
    "duration": 5,
    "start_time": "2024-11-05T01:24:37.664Z"
   },
   {
    "duration": 121,
    "start_time": "2024-11-05T01:25:10.904Z"
   },
   {
    "duration": 6,
    "start_time": "2024-11-05T01:25:43.491Z"
   },
   {
    "duration": 8,
    "start_time": "2024-11-05T01:25:48.534Z"
   },
   {
    "duration": 4,
    "start_time": "2024-11-05T01:25:55.181Z"
   },
   {
    "duration": 280,
    "start_time": "2024-11-05T01:26:05.093Z"
   },
   {
    "duration": 144,
    "start_time": "2024-11-05T01:26:15.784Z"
   },
   {
    "duration": 154,
    "start_time": "2024-11-05T01:26:24.602Z"
   },
   {
    "duration": 252,
    "start_time": "2024-11-05T01:27:14.519Z"
   },
   {
    "duration": 326,
    "start_time": "2024-11-05T01:27:37.611Z"
   },
   {
    "duration": 360,
    "start_time": "2024-11-05T01:27:44.615Z"
   },
   {
    "duration": 919,
    "start_time": "2024-11-05T01:27:55.493Z"
   },
   {
    "duration": 359,
    "start_time": "2024-11-05T01:28:35.089Z"
   },
   {
    "duration": 268,
    "start_time": "2024-11-05T01:29:54.416Z"
   },
   {
    "duration": 261,
    "start_time": "2024-11-05T01:30:47.485Z"
   },
   {
    "duration": 270,
    "start_time": "2024-11-05T01:31:26.054Z"
   },
   {
    "duration": 282,
    "start_time": "2024-11-05T01:31:35.465Z"
   },
   {
    "duration": 273,
    "start_time": "2024-11-05T01:32:08.168Z"
   },
   {
    "duration": 260,
    "start_time": "2024-11-05T01:32:17.455Z"
   },
   {
    "duration": 237,
    "start_time": "2024-11-05T01:32:22.787Z"
   },
   {
    "duration": 147,
    "start_time": "2024-11-05T02:06:01.086Z"
   },
   {
    "duration": 540,
    "start_time": "2024-11-05T02:07:36.077Z"
   },
   {
    "duration": 5,
    "start_time": "2024-11-05T02:07:56.968Z"
   },
   {
    "duration": 13,
    "start_time": "2024-11-05T02:08:00.646Z"
   },
   {
    "duration": 147,
    "start_time": "2024-11-05T02:08:51.216Z"
   },
   {
    "duration": 54,
    "start_time": "2024-11-05T02:11:45.243Z"
   },
   {
    "duration": 6,
    "start_time": "2024-11-05T02:12:02.792Z"
   },
   {
    "duration": 11,
    "start_time": "2024-11-05T02:12:06.767Z"
   },
   {
    "duration": 9,
    "start_time": "2024-11-05T02:13:00.138Z"
   },
   {
    "duration": 104,
    "start_time": "2024-11-05T02:13:05.592Z"
   },
   {
    "duration": 9,
    "start_time": "2024-11-05T02:13:19.278Z"
   },
   {
    "duration": 145,
    "start_time": "2024-11-05T02:13:21.476Z"
   },
   {
    "duration": 8,
    "start_time": "2024-11-05T02:14:10.792Z"
   },
   {
    "duration": 101,
    "start_time": "2024-11-05T02:14:12.005Z"
   },
   {
    "duration": 11,
    "start_time": "2024-11-05T02:14:16.899Z"
   },
   {
    "duration": 124,
    "start_time": "2024-11-05T02:14:20.636Z"
   },
   {
    "duration": 8,
    "start_time": "2024-11-05T02:14:25.512Z"
   },
   {
    "duration": 46,
    "start_time": "2024-11-05T02:14:31.334Z"
   },
   {
    "duration": 8,
    "start_time": "2024-11-05T02:14:56.129Z"
   },
   {
    "duration": 8,
    "start_time": "2024-11-05T02:16:01.894Z"
   },
   {
    "duration": 9,
    "start_time": "2024-11-05T02:16:05.401Z"
   },
   {
    "duration": 152,
    "start_time": "2024-11-05T02:16:26.356Z"
   },
   {
    "duration": 10,
    "start_time": "2024-11-05T02:18:46.680Z"
   },
   {
    "duration": 56,
    "start_time": "2024-11-05T02:19:52.167Z"
   },
   {
    "duration": 211,
    "start_time": "2024-11-05T02:20:10.989Z"
   },
   {
    "duration": 150,
    "start_time": "2024-11-05T02:21:25.391Z"
   },
   {
    "duration": 129,
    "start_time": "2024-11-05T02:26:41.833Z"
   },
   {
    "duration": 145,
    "start_time": "2024-11-05T02:26:59.758Z"
   },
   {
    "duration": 125,
    "start_time": "2024-11-05T02:27:03.070Z"
   },
   {
    "duration": 3,
    "start_time": "2024-11-05T02:52:05.537Z"
   },
   {
    "duration": 2,
    "start_time": "2024-11-05T02:53:03.922Z"
   }
  ],
  "kernelspec": {
   "display_name": "Python 3 (ipykernel)",
   "language": "python",
   "name": "python3"
  },
  "language_info": {
   "codemirror_mode": {
    "name": "ipython",
    "version": 3
   },
   "file_extension": ".py",
   "mimetype": "text/x-python",
   "name": "python",
   "nbconvert_exporter": "python",
   "pygments_lexer": "ipython3",
   "version": "3.9.19"
  },
  "toc": {
   "base_numbering": 1,
   "nav_menu": {},
   "number_sections": true,
   "sideBar": true,
   "skip_h1_title": true,
   "title_cell": "Table of Contents",
   "title_sidebar": "Contents",
   "toc_cell": false,
   "toc_position": {},
   "toc_section_display": true,
   "toc_window_display": false
  }
 },
 "nbformat": 4,
 "nbformat_minor": 2
}
